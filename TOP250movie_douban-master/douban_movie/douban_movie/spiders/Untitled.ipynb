{
 "cells": [
  {
   "cell_type": "code",
   "execution_count": 3,
   "metadata": {},
   "outputs": [],
   "source": [
    "import pandas as pd\n",
    "import numpy as np"
   ]
  },
  {
   "cell_type": "code",
   "execution_count": 86,
   "metadata": {
    "collapsed": true
   },
   "outputs": [],
   "source": [
    "#data = pd.read_json('comment.json')\n",
    "data = pd.read_csv('../comment.csv')\n",
    "#data_m = pd.read_csv('movie.csv')"
   ]
  },
  {
   "cell_type": "code",
   "execution_count": 87,
   "metadata": {},
   "outputs": [
    {
     "data": {
      "text/html": [
       "<div>\n",
       "<table border=\"1\" class=\"dataframe\">\n",
       "  <thead>\n",
       "    <tr style=\"text-align: right;\">\n",
       "      <th></th>\n",
       "      <th>useful_num</th>\n",
       "      <th>people</th>\n",
       "      <th>comment_id</th>\n",
       "      <th>star</th>\n",
       "      <th>content</th>\n",
       "      <th>movie_id</th>\n",
       "      <th>time</th>\n",
       "      <th>people_url</th>\n",
       "    </tr>\n",
       "  </thead>\n",
       "  <tbody>\n",
       "    <tr>\n",
       "      <th>0</th>\n",
       "      <td>1019</td>\n",
       "      <td>佛小FoChaos</td>\n",
       "      <td>264700640</td>\n",
       "      <td>allstar50 rating</td>\n",
       "      <td>扮演外婆的演員金亦芬，1926年出生在慶尚北道，10年前老伴去世。她靠院子裡的100多棵胡...</td>\n",
       "      <td>cbtn-1299361</td>\n",
       "      <td>2010-06-27 14:46:52</td>\n",
       "      <td>https://www.douban.com/people/crashmyshadow/</td>\n",
       "    </tr>\n",
       "    <tr>\n",
       "      <th>1</th>\n",
       "      <td>519</td>\n",
       "      <td>半截龙女</td>\n",
       "      <td>167220826</td>\n",
       "      <td>allstar50 rating</td>\n",
       "      <td>外婆，如果你病了就发个空信，我就会知道是你，我会尽快来，好吗。\\n</td>\n",
       "      <td>cbtn-1299361</td>\n",
       "      <td>2009-10-11 21:54:30</td>\n",
       "      <td>https://www.douban.com/people/zombier/</td>\n",
       "    </tr>\n",
       "    <tr>\n",
       "      <th>2</th>\n",
       "      <td>395</td>\n",
       "      <td>Xuan</td>\n",
       "      <td>304604125</td>\n",
       "      <td>comment-time</td>\n",
       "      <td>看到镇子上的婆婆跟外婆说“在死前还要见上一面”，这个时候哭了，语气那么平和\\n</td>\n",
       "      <td>cbtn-1299361</td>\n",
       "      <td>2010-10-16 09:54:26</td>\n",
       "      <td>https://www.douban.com/people/santafexuan/</td>\n",
       "    </tr>\n",
       "    <tr>\n",
       "      <th>3</th>\n",
       "      <td>320</td>\n",
       "      <td>瓦达西瓦又又又桑只爱这巧克力</td>\n",
       "      <td>267737507</td>\n",
       "      <td>allstar50 rating</td>\n",
       "      <td>炖鸡那我真想把那崽子炖了\\n</td>\n",
       "      <td>cbtn-1299361</td>\n",
       "      <td>2010-07-06 12:48:08</td>\n",
       "      <td>https://www.douban.com/people/yoyoyoyoyoyoyo/</td>\n",
       "    </tr>\n",
       "    <tr>\n",
       "      <th>4</th>\n",
       "      <td>256</td>\n",
       "      <td>战国客</td>\n",
       "      <td>19635810</td>\n",
       "      <td>allstar50 rating</td>\n",
       "      <td>影片中的很多场景和我所经历的很相像，所以，看着电影就觉得是往事在重放。有很多小孩不懂事的情...</td>\n",
       "      <td>cbtn-1299361</td>\n",
       "      <td>2008-01-10 20:43:14</td>\n",
       "      <td>https://www.douban.com/people/ocean_kwai/</td>\n",
       "    </tr>\n",
       "    <tr>\n",
       "      <th>5</th>\n",
       "      <td>156</td>\n",
       "      <td>Lan~die</td>\n",
       "      <td>39384866</td>\n",
       "      <td>allstar40 rating</td>\n",
       "      <td>最喜欢的韩国片。有事才想起，这是很多为人子女者的通病，但父母却一直是我们最后的避难所。大爱...</td>\n",
       "      <td>cbtn-1299361</td>\n",
       "      <td>2008-05-04 02:02:43</td>\n",
       "      <td>https://www.douban.com/people/Lan.die/</td>\n",
       "    </tr>\n",
       "    <tr>\n",
       "      <th>6</th>\n",
       "      <td>136</td>\n",
       "      <td>珍珠大爷</td>\n",
       "      <td>42723170</td>\n",
       "      <td>allstar50 rating</td>\n",
       "      <td>知道那种自己都很痛的感觉吗？比身体上的疼痛更加彻骨的感觉……\\n</td>\n",
       "      <td>cbtn-1299361</td>\n",
       "      <td>2008-05-30 17:32:17</td>\n",
       "      <td>https://www.douban.com/people/neverlandofme/</td>\n",
       "    </tr>\n",
       "    <tr>\n",
       "      <th>7</th>\n",
       "      <td>124</td>\n",
       "      <td>暖鱼</td>\n",
       "      <td>39310225</td>\n",
       "      <td>allstar50 rating</td>\n",
       "      <td>希望中国尽早拍出此类片子，并在末尾打上：献给天下所有婆婆\\n</td>\n",
       "      <td>cbtn-1299361</td>\n",
       "      <td>2008-08-22 23:31:41</td>\n",
       "      <td>https://www.douban.com/people/luanluanyu/</td>\n",
       "    </tr>\n",
       "    <tr>\n",
       "      <th>8</th>\n",
       "      <td>104</td>\n",
       "      <td>沉歌</td>\n",
       "      <td>523134082</td>\n",
       "      <td>allstar30 rating</td>\n",
       "      <td>大概是因为用了非专业演员，竟然拍出了伊朗电影般的质朴感，南朝电影里还是第一次见到呢。不过很...</td>\n",
       "      <td>cbtn-1299361</td>\n",
       "      <td>2012-04-22 00:53:29</td>\n",
       "      <td>https://www.douban.com/people/beiliya/</td>\n",
       "    </tr>\n",
       "    <tr>\n",
       "      <th>9</th>\n",
       "      <td>76</td>\n",
       "      <td>shawnj</td>\n",
       "      <td>4423907</td>\n",
       "      <td>allstar20 rating</td>\n",
       "      <td>相当矫情一片\\n</td>\n",
       "      <td>cbtn-1299361</td>\n",
       "      <td>2006-07-31 13:46:28</td>\n",
       "      <td>https://www.douban.com/people/shawnj/</td>\n",
       "    </tr>\n",
       "    <tr>\n",
       "      <th>10</th>\n",
       "      <td>71</td>\n",
       "      <td>深海的心</td>\n",
       "      <td>138352557</td>\n",
       "      <td>allstar30 rating</td>\n",
       "      <td>不管对你多好，终究是要离开。\\n</td>\n",
       "      <td>cbtn-1299361</td>\n",
       "      <td>2009-07-18 15:26:37</td>\n",
       "      <td>https://www.douban.com/people/oceanheart/</td>\n",
       "    </tr>\n",
       "    <tr>\n",
       "      <th>11</th>\n",
       "      <td>60</td>\n",
       "      <td>焉熏</td>\n",
       "      <td>11983693</td>\n",
       "      <td>allstar50 rating</td>\n",
       "      <td>上车  送相宇上车的时候    我哭了……\\n</td>\n",
       "      <td>cbtn-1299361</td>\n",
       "      <td>2007-03-21 16:38:05</td>\n",
       "      <td>https://www.douban.com/people/wei21955/</td>\n",
       "    </tr>\n",
       "    <tr>\n",
       "      <th>12</th>\n",
       "      <td>52</td>\n",
       "      <td>影志</td>\n",
       "      <td>675788964</td>\n",
       "      <td>allstar50 rating</td>\n",
       "      <td>外婆出现的每一个镜头都是泪点…好久没看这么感人的电影，5星几乎都是感情分！\\n</td>\n",
       "      <td>cbtn-1299361</td>\n",
       "      <td>2013-05-03 23:47:52</td>\n",
       "      <td>https://www.douban.com/people/tjz230/</td>\n",
       "    </tr>\n",
       "    <tr>\n",
       "      <th>13</th>\n",
       "      <td>43</td>\n",
       "      <td>桃桃淘电影</td>\n",
       "      <td>262566264</td>\n",
       "      <td>allstar30 rating</td>\n",
       "      <td>献给所有外婆。\\n</td>\n",
       "      <td>cbtn-1299361</td>\n",
       "      <td>2010-06-20 09:12:24</td>\n",
       "      <td>https://www.douban.com/people/qijiuzhiyue/</td>\n",
       "    </tr>\n",
       "    <tr>\n",
       "      <th>14</th>\n",
       "      <td>37</td>\n",
       "      <td>散木</td>\n",
       "      <td>7810197</td>\n",
       "      <td>allstar50 rating</td>\n",
       "      <td>“献给所有的外婆”\\n</td>\n",
       "      <td>cbtn-1299361</td>\n",
       "      <td>2006-12-05 22:14:25</td>\n",
       "      <td>https://www.douban.com/people/hulu0918/</td>\n",
       "    </tr>\n",
       "    <tr>\n",
       "      <th>15</th>\n",
       "      <td>38</td>\n",
       "      <td>匡匡</td>\n",
       "      <td>1091539718</td>\n",
       "      <td>allstar30 rating</td>\n",
       "      <td>沉默而穷苦。然而这穷苦之中，仍有沉默而涓涓的爱。许多，甚至绝大多数中国人人生的幼年，都得到...</td>\n",
       "      <td>cbtn-1299361</td>\n",
       "      <td>2016-10-03 23:34:16</td>\n",
       "      <td>https://www.douban.com/people/rakumm/</td>\n",
       "    </tr>\n",
       "    <tr>\n",
       "      <th>16</th>\n",
       "      <td>28</td>\n",
       "      <td>程小飞</td>\n",
       "      <td>6073651</td>\n",
       "      <td>allstar40 rating</td>\n",
       "      <td>高难度拍摄。\\n</td>\n",
       "      <td>cbtn-1299361</td>\n",
       "      <td>2006-10-07 03:13:43</td>\n",
       "      <td>https://www.douban.com/people/flyingappled/</td>\n",
       "    </tr>\n",
       "    <tr>\n",
       "      <th>17</th>\n",
       "      <td>21</td>\n",
       "      <td>可可肚子</td>\n",
       "      <td>24162209</td>\n",
       "      <td>allstar40 rating</td>\n",
       "      <td>外婆好可爱哦~\\n</td>\n",
       "      <td>cbtn-1299361</td>\n",
       "      <td>2007-11-19 17:42:03</td>\n",
       "      <td>https://www.douban.com/people/YIYAOJUN/</td>\n",
       "    </tr>\n",
       "    <tr>\n",
       "      <th>18</th>\n",
       "      <td>30</td>\n",
       "      <td>Sweetkiller</td>\n",
       "      <td>138653361</td>\n",
       "      <td>allstar40 rating</td>\n",
       "      <td>献给每位做外婆的人。 ：）\\n</td>\n",
       "      <td>cbtn-1299361</td>\n",
       "      <td>2009-07-16 22:54:17</td>\n",
       "      <td>https://www.douban.com/people/sweetkiller/</td>\n",
       "    </tr>\n",
       "    <tr>\n",
       "      <th>19</th>\n",
       "      <td>19</td>\n",
       "      <td>王大根</td>\n",
       "      <td>1071812229</td>\n",
       "      <td>allstar40 rating</td>\n",
       "      <td>外婆家，下雨时候的天井，墙头上的宝石花，埋在粥里的面团，傍晚时呱呱叫着回家的鸭子，干涸的水...</td>\n",
       "      <td>cbtn-1299361</td>\n",
       "      <td>2016-08-09 23:48:54</td>\n",
       "      <td>https://www.douban.com/people/diewithme/</td>\n",
       "    </tr>\n",
       "  </tbody>\n",
       "</table>\n",
       "</div>"
      ],
      "text/plain": [
       "    useful_num          people  comment_id              star  \\\n",
       "0         1019       佛小FoChaos   264700640  allstar50 rating   \n",
       "1          519            半截龙女   167220826  allstar50 rating   \n",
       "2          395            Xuan   304604125      comment-time   \n",
       "3          320  瓦达西瓦又又又桑只爱这巧克力   267737507  allstar50 rating   \n",
       "4          256             战国客    19635810  allstar50 rating   \n",
       "5          156         Lan~die    39384866  allstar40 rating   \n",
       "6          136            珍珠大爷    42723170  allstar50 rating   \n",
       "7          124              暖鱼    39310225  allstar50 rating   \n",
       "8          104              沉歌   523134082  allstar30 rating   \n",
       "9           76          shawnj     4423907  allstar20 rating   \n",
       "10          71            深海的心   138352557  allstar30 rating   \n",
       "11          60              焉熏    11983693  allstar50 rating   \n",
       "12          52              影志   675788964  allstar50 rating   \n",
       "13          43           桃桃淘电影   262566264  allstar30 rating   \n",
       "14          37              散木     7810197  allstar50 rating   \n",
       "15          38              匡匡  1091539718  allstar30 rating   \n",
       "16          28             程小飞     6073651  allstar40 rating   \n",
       "17          21            可可肚子    24162209  allstar40 rating   \n",
       "18          30     Sweetkiller   138653361  allstar40 rating   \n",
       "19          19             王大根  1071812229  allstar40 rating   \n",
       "\n",
       "                                              content      movie_id  \\\n",
       "0    扮演外婆的演員金亦芬，1926年出生在慶尚北道，10年前老伴去世。她靠院子裡的100多棵胡...  cbtn-1299361   \n",
       "1           外婆，如果你病了就发个空信，我就会知道是你，我会尽快来，好吗。\\n          cbtn-1299361   \n",
       "2     看到镇子上的婆婆跟外婆说“在死前还要见上一面”，这个时候哭了，语气那么平和\\n          cbtn-1299361   \n",
       "3                              炖鸡那我真想把那崽子炖了\\n          cbtn-1299361   \n",
       "4    影片中的很多场景和我所经历的很相像，所以，看着电影就觉得是往事在重放。有很多小孩不懂事的情...  cbtn-1299361   \n",
       "5    最喜欢的韩国片。有事才想起，这是很多为人子女者的通病，但父母却一直是我们最后的避难所。大爱...  cbtn-1299361   \n",
       "6            知道那种自己都很痛的感觉吗？比身体上的疼痛更加彻骨的感觉……\\n          cbtn-1299361   \n",
       "7              希望中国尽早拍出此类片子，并在末尾打上：献给天下所有婆婆\\n          cbtn-1299361   \n",
       "8    大概是因为用了非专业演员，竟然拍出了伊朗电影般的质朴感，南朝电影里还是第一次见到呢。不过很...  cbtn-1299361   \n",
       "9                                    相当矫情一片\\n          cbtn-1299361   \n",
       "10                           不管对你多好，终究是要离开。\\n          cbtn-1299361   \n",
       "11                    上车  送相宇上车的时候    我哭了……\\n          cbtn-1299361   \n",
       "12    外婆出现的每一个镜头都是泪点…好久没看这么感人的电影，5星几乎都是感情分！\\n          cbtn-1299361   \n",
       "13                                  献给所有外婆。\\n          cbtn-1299361   \n",
       "14                                “献给所有的外婆”\\n          cbtn-1299361   \n",
       "15   沉默而穷苦。然而这穷苦之中，仍有沉默而涓涓的爱。许多，甚至绝大多数中国人人生的幼年，都得到...  cbtn-1299361   \n",
       "16                                   高难度拍摄。\\n          cbtn-1299361   \n",
       "17                                  外婆好可爱哦~\\n          cbtn-1299361   \n",
       "18                            献给每位做外婆的人。 ：）\\n          cbtn-1299361   \n",
       "19   外婆家，下雨时候的天井，墙头上的宝石花，埋在粥里的面团，傍晚时呱呱叫着回家的鸭子，干涸的水...  cbtn-1299361   \n",
       "\n",
       "                   time                                     people_url  \n",
       "0   2010-06-27 14:46:52   https://www.douban.com/people/crashmyshadow/  \n",
       "1   2009-10-11 21:54:30         https://www.douban.com/people/zombier/  \n",
       "2   2010-10-16 09:54:26     https://www.douban.com/people/santafexuan/  \n",
       "3   2010-07-06 12:48:08  https://www.douban.com/people/yoyoyoyoyoyoyo/  \n",
       "4   2008-01-10 20:43:14      https://www.douban.com/people/ocean_kwai/  \n",
       "5   2008-05-04 02:02:43         https://www.douban.com/people/Lan.die/  \n",
       "6   2008-05-30 17:32:17   https://www.douban.com/people/neverlandofme/  \n",
       "7   2008-08-22 23:31:41      https://www.douban.com/people/luanluanyu/  \n",
       "8   2012-04-22 00:53:29         https://www.douban.com/people/beiliya/  \n",
       "9   2006-07-31 13:46:28          https://www.douban.com/people/shawnj/  \n",
       "10  2009-07-18 15:26:37      https://www.douban.com/people/oceanheart/  \n",
       "11  2007-03-21 16:38:05        https://www.douban.com/people/wei21955/  \n",
       "12  2013-05-03 23:47:52          https://www.douban.com/people/tjz230/  \n",
       "13  2010-06-20 09:12:24     https://www.douban.com/people/qijiuzhiyue/  \n",
       "14  2006-12-05 22:14:25        https://www.douban.com/people/hulu0918/  \n",
       "15  2016-10-03 23:34:16          https://www.douban.com/people/rakumm/  \n",
       "16  2006-10-07 03:13:43    https://www.douban.com/people/flyingappled/  \n",
       "17  2007-11-19 17:42:03        https://www.douban.com/people/YIYAOJUN/  \n",
       "18  2009-07-16 22:54:17     https://www.douban.com/people/sweetkiller/  \n",
       "19  2016-08-09 23:48:54       https://www.douban.com/people/diewithme/  "
      ]
     },
     "execution_count": 87,
     "metadata": {},
     "output_type": "execute_result"
    }
   ],
   "source": [
    "data"
   ]
  },
  {
   "cell_type": "code",
   "execution_count": 66,
   "metadata": {},
   "outputs": [
    {
     "data": {
      "text/html": [
       "<div>\n",
       "<table border=\"1\" class=\"dataframe\">\n",
       "  <thead>\n",
       "    <tr style=\"text-align: right;\">\n",
       "      <th></th>\n",
       "      <th>rating_per_stars4</th>\n",
       "      <th>rating_per_stars1</th>\n",
       "      <th>movie_title</th>\n",
       "      <th>rating_per_stars3</th>\n",
       "      <th>country</th>\n",
       "      <th>vote_num</th>\n",
       "      <th>rating_per_stars5</th>\n",
       "      <th>runtime</th>\n",
       "      <th>release_date</th>\n",
       "      <th>comment_num</th>\n",
       "      <th>rating_num</th>\n",
       "      <th>question_num</th>\n",
       "      <th>starring</th>\n",
       "      <th>rating_per_stars2</th>\n",
       "      <th>genre</th>\n",
       "      <th>movie_id</th>\n",
       "      <th>language</th>\n",
       "      <th>directedBy</th>\n",
       "    </tr>\n",
       "  </thead>\n",
       "  <tbody>\n",
       "    <tr>\n",
       "      <th>0</th>\n",
       "      <td>15.7%</td>\n",
       "      <td>0.1%</td>\n",
       "      <td>肖申克的救赎 The Shawshank Redemption</td>\n",
       "      <td>2.0%</td>\n",
       "      <td>美国</td>\n",
       "      <td>876852</td>\n",
       "      <td>82.1%</td>\n",
       "      <td>142 分钟</td>\n",
       "      <td>(1994)</td>\n",
       "      <td>全部 206159 条</td>\n",
       "      <td>9.6</td>\n",
       "      <td>全部74个</td>\n",
       "      <td>蒂姆·罗宾斯,摩根·弗里曼,鲍勃·冈顿,威廉姆·赛德勒,克兰西·布朗,吉尔·贝罗斯,马克·罗...</td>\n",
       "      <td>0.1%</td>\n",
       "      <td>剧情,犯罪</td>\n",
       "      <td>电影-1292052</td>\n",
       "      <td>英语</td>\n",
       "      <td>弗兰克·德拉邦特</td>\n",
       "    </tr>\n",
       "    <tr>\n",
       "      <th>1</th>\n",
       "      <td>29.7%</td>\n",
       "      <td>0.3%</td>\n",
       "      <td>爱·回家 집으로...</td>\n",
       "      <td>7.6%</td>\n",
       "      <td>韩国</td>\n",
       "      <td>45249</td>\n",
       "      <td>61.7%</td>\n",
       "      <td>80分钟</td>\n",
       "      <td>(2002)</td>\n",
       "      <td>全部 15893 条</td>\n",
       "      <td>9.0</td>\n",
       "      <td>全部9个</td>\n",
       "      <td>金艺芬,俞承豪,童孝熙,闵京勋,任恩敬</td>\n",
       "      <td>0.7%</td>\n",
       "      <td>剧情,家庭</td>\n",
       "      <td>电影-1299361</td>\n",
       "      <td>韩语</td>\n",
       "      <td>李廷香</td>\n",
       "    </tr>\n",
       "  </tbody>\n",
       "</table>\n",
       "</div>"
      ],
      "text/plain": [
       "  rating_per_stars4 rating_per_stars1                      movie_title  \\\n",
       "0             15.7%              0.1%  肖申克的救赎 The Shawshank Redemption   \n",
       "1             29.7%              0.3%                      爱·回家 집으로...   \n",
       "\n",
       "  rating_per_stars3 country  vote_num rating_per_stars5 runtime release_date  \\\n",
       "0              2.0%      美国    876852             82.1%  142 分钟       (1994)   \n",
       "1              7.6%      韩国     45249             61.7%    80分钟       (2002)   \n",
       "\n",
       "   comment_num  rating_num question_num  \\\n",
       "0  全部 206159 条         9.6        全部74个   \n",
       "1   全部 15893 条         9.0         全部9个   \n",
       "\n",
       "                                            starring rating_per_stars2  genre  \\\n",
       "0  蒂姆·罗宾斯,摩根·弗里曼,鲍勃·冈顿,威廉姆·赛德勒,克兰西·布朗,吉尔·贝罗斯,马克·罗...              0.1%  剧情,犯罪   \n",
       "1                                金艺芬,俞承豪,童孝熙,闵京勋,任恩敬              0.7%  剧情,家庭   \n",
       "\n",
       "     movie_id language directedBy  \n",
       "0  电影-1292052       英语   弗兰克·德拉邦特  \n",
       "1  电影-1299361       韩语        李廷香  "
      ]
     },
     "execution_count": 66,
     "metadata": {},
     "output_type": "execute_result"
    }
   ],
   "source": [
    "data_m"
   ]
  },
  {
   "cell_type": "code",
   "execution_count": 67,
   "metadata": {},
   "outputs": [
    {
     "data": {
      "text/html": [
       "<div>\n",
       "<table border=\"1\" class=\"dataframe\">\n",
       "  <thead>\n",
       "    <tr style=\"text-align: right;\">\n",
       "      <th></th>\n",
       "      <th>vote_num</th>\n",
       "      <th>rating_num</th>\n",
       "    </tr>\n",
       "  </thead>\n",
       "  <tbody>\n",
       "    <tr>\n",
       "      <th>count</th>\n",
       "      <td>2.000000</td>\n",
       "      <td>2.000000</td>\n",
       "    </tr>\n",
       "    <tr>\n",
       "      <th>mean</th>\n",
       "      <td>461050.500000</td>\n",
       "      <td>9.300000</td>\n",
       "    </tr>\n",
       "    <tr>\n",
       "      <th>std</th>\n",
       "      <td>588032.120555</td>\n",
       "      <td>0.424264</td>\n",
       "    </tr>\n",
       "    <tr>\n",
       "      <th>min</th>\n",
       "      <td>45249.000000</td>\n",
       "      <td>9.000000</td>\n",
       "    </tr>\n",
       "    <tr>\n",
       "      <th>25%</th>\n",
       "      <td>253149.750000</td>\n",
       "      <td>9.150000</td>\n",
       "    </tr>\n",
       "    <tr>\n",
       "      <th>50%</th>\n",
       "      <td>461050.500000</td>\n",
       "      <td>9.300000</td>\n",
       "    </tr>\n",
       "    <tr>\n",
       "      <th>75%</th>\n",
       "      <td>668951.250000</td>\n",
       "      <td>9.450000</td>\n",
       "    </tr>\n",
       "    <tr>\n",
       "      <th>max</th>\n",
       "      <td>876852.000000</td>\n",
       "      <td>9.600000</td>\n",
       "    </tr>\n",
       "  </tbody>\n",
       "</table>\n",
       "</div>"
      ],
      "text/plain": [
       "            vote_num  rating_num\n",
       "count       2.000000    2.000000\n",
       "mean   461050.500000    9.300000\n",
       "std    588032.120555    0.424264\n",
       "min     45249.000000    9.000000\n",
       "25%    253149.750000    9.150000\n",
       "50%    461050.500000    9.300000\n",
       "75%    668951.250000    9.450000\n",
       "max    876852.000000    9.600000"
      ]
     },
     "execution_count": 67,
     "metadata": {},
     "output_type": "execute_result"
    }
   ],
   "source": [
    "data_m.describe()"
   ]
  },
  {
   "cell_type": "code",
   "execution_count": 38,
   "metadata": {},
   "outputs": [
    {
     "name": "stdout",
     "output_type": "stream",
     "text": [
      "<class 'pandas.core.frame.DataFrame'>\n",
      "RangeIndex: 40 entries, 0 to 39\n",
      "Data columns (total 7 columns):\n",
      "star          40 non-null object\n",
      "people        40 non-null object\n",
      "content       40 non-null object\n",
      "people_url    40 non-null object\n",
      "useful_num    40 non-null int64\n",
      "time          40 non-null object\n",
      "comment_id    40 non-null int64\n",
      "dtypes: int64(2), object(5)\n",
      "memory usage: 2.3+ KB\n"
     ]
    }
   ],
   "source": [
    "data.info()"
   ]
  },
  {
   "cell_type": "code",
   "execution_count": 70,
   "metadata": {
    "collapsed": true
   },
   "outputs": [],
   "source": [
    "id = np.loadtxt('movie_id.out', dtype='i').tolist()"
   ]
  },
  {
   "cell_type": "code",
   "execution_count": 71,
   "metadata": {},
   "outputs": [
    {
     "data": {
      "text/plain": [
       "[1292052,\n",
       " 1307914,\n",
       " 1849031,\n",
       " 1300267,\n",
       " 1292064,\n",
       " 1291841,\n",
       " 6786002,\n",
       " 1291549,\n",
       " 3011091,\n",
       " 1291560,\n",
       " 1291828,\n",
       " 3793023,\n",
       " 1292213,\n",
       " 1292001,\n",
       " 3792799,\n",
       " 1293929,\n",
       " 3287562,\n",
       " 1299327,\n",
       " 2365260,\n",
       " 1292218,\n",
       " 25807345,\n",
       " 5908478,\n",
       " 3073124,\n",
       " 10533913,\n",
       " 6146955,\n",
       " 1301171,\n",
       " 25724855,\n",
       " 1293764,\n",
       " 1305725,\n",
       " 1308575,\n",
       " 1298653,\n",
       " 3157605,\n",
       " 1297478,\n",
       " 6534248,\n",
       " 1299361,\n",
       " 10463953,\n",
       " 4739952,\n",
       " 3217169,\n",
       " 1438652,\n",
       " 1959195,\n",
       " 3072124,\n",
       " 1303394,\n",
       " 1291844,\n",
       " 1291870,\n",
       " 1905462,\n",
       " 1295865,\n",
       " 1291992,\n",
       " 1296753,\n",
       " 1292401,\n",
       " 4202302,\n",
       " 1578507,\n",
       " 1865703,\n",
       " 1300117,\n",
       " 1292056,\n",
       " 1652587,\n",
       " 1294371,\n",
       " 1867345,\n",
       " 3395373,\n",
       " 1300960,\n",
       " 1862151,\n",
       " 1302476,\n",
       " 1308777,\n",
       " 4023638,\n",
       " 1300741,\n",
       " 2053515,\n",
       " 1296339,\n",
       " 1292214,\n",
       " 1292217,\n",
       " 1428175,\n",
       " 1292062,\n",
       " 10808442,\n",
       " 1302467,\n",
       " 1292233,\n",
       " 1401118,\n",
       " 1293908,\n",
       " 1292287,\n",
       " 4798888,\n",
       " 3075287,\n",
       " 1291853,\n",
       " 1294638,\n",
       " 1292659,\n",
       " 2300586,\n",
       " 1307315,\n",
       " 1292849,\n",
       " 1292402,\n",
       " 1307793,\n",
       " 1293544,\n",
       " 1292343,\n",
       " 1291843,\n",
       " 2149806,\n",
       " 21937452,\n",
       " 1291832,\n",
       " 1292370,\n",
       " 25662329,\n",
       " 1485260,\n",
       " 1294408,\n",
       " 1294639,\n",
       " 1303021,\n",
       " 1780330,\n",
       " 1292223,\n",
       " 1787291,\n",
       " 21937445,\n",
       " 1296736,\n",
       " 1291818,\n",
       " 1301753,\n",
       " 1292215,\n",
       " 1292728,\n",
       " 1296141,\n",
       " 1292262,\n",
       " 1307811,\n",
       " 1291568,\n",
       " 1300374,\n",
       " 1292281,\n",
       " 6874403,\n",
       " 3007773,\n",
       " 1305690,\n",
       " 1304102,\n",
       " 1793929,\n",
       " 3011051,\n",
       " 25773932,\n",
       " 1293181,\n",
       " 6307447,\n",
       " 1308767,\n",
       " 1292329,\n",
       " 1395091,\n",
       " 26430107,\n",
       " 2043546,\n",
       " 1292220,\n",
       " 1291548,\n",
       " 1858711,\n",
       " 1291571,\n",
       " 2363506,\n",
       " 5989818,\n",
       " 1291572,\n",
       " 1308807,\n",
       " 1306029,\n",
       " 1293359,\n",
       " 21360417,\n",
       " 1297447,\n",
       " 1309046,\n",
       " 1295399,\n",
       " 1292274,\n",
       " 3008247,\n",
       " 1299131,\n",
       " 2353023,\n",
       " 5322596,\n",
       " 21318488,\n",
       " 1291585,\n",
       " 1295038,\n",
       " 3443389,\n",
       " 1297052,\n",
       " 1293318,\n",
       " 1291990,\n",
       " 1293172,\n",
       " 1292434,\n",
       " 6985810,\n",
       " 4268598,\n",
       " 1418834,\n",
       " 1305487,\n",
       " 1298070,\n",
       " 1297192,\n",
       " 4917726,\n",
       " 2334904,\n",
       " 1292208,\n",
       " 1291999,\n",
       " 1305164,\n",
       " 1418019,\n",
       " 1291875,\n",
       " 1291545,\n",
       " 1316510,\n",
       " 1297630,\n",
       " 3742360,\n",
       " 11525673,\n",
       " 1292679,\n",
       " 1297359,\n",
       " 1292270,\n",
       " 25814707,\n",
       " 1308857,\n",
       " 1292656,\n",
       " 1419936,\n",
       " 1291879,\n",
       " 11026735,\n",
       " 1306249,\n",
       " 10577869,\n",
       " 25917973,\n",
       " 25980443,\n",
       " 24750126,\n",
       " 1760622,\n",
       " 1397546,\n",
       " 1291578,\n",
       " 2213597,\n",
       " 1306861,\n",
       " 1291557,\n",
       " 2297265,\n",
       " 5964718,\n",
       " 1388216,\n",
       " 1295409,\n",
       " 10777687,\n",
       " 3011235,\n",
       " 1293460,\n",
       " 1418200,\n",
       " 1294240,\n",
       " 1302827,\n",
       " 1309163,\n",
       " 1300992,\n",
       " 1297574,\n",
       " 1292528,\n",
       " 25814705,\n",
       " 1303037,\n",
       " 1291822,\n",
       " 1293964,\n",
       " 1302425,\n",
       " 1291579,\n",
       " 1978709,\n",
       " 1937946,\n",
       " 1292328,\n",
       " 1296909,\n",
       " 1298624,\n",
       " 1304447,\n",
       " 1292224,\n",
       " 1907966,\n",
       " 2209573,\n",
       " 1900841,\n",
       " 3442220,\n",
       " 2129039,\n",
       " 1291858,\n",
       " 1292365,\n",
       " 1293839,\n",
       " 1299398,\n",
       " 1293350,\n",
       " 1851857,\n",
       " 1291583,\n",
       " 1889243,\n",
       " 1929463,\n",
       " 1291552,\n",
       " 3319755,\n",
       " 1293182,\n",
       " 2131459,\n",
       " 1291561,\n",
       " 1292722,\n",
       " 3541415,\n",
       " 1292720,\n",
       " 1295644,\n",
       " 1292063,\n",
       " 1295124,\n",
       " 1291546]"
      ]
     },
     "execution_count": 71,
     "metadata": {},
     "output_type": "execute_result"
    }
   ],
   "source": [
    "id"
   ]
  },
  {
   "cell_type": "code",
   "execution_count": 82,
   "metadata": {
    "collapsed": true
   },
   "outputs": [],
   "source": [
    "from selenium import webdriver"
   ]
  },
  {
   "cell_type": "code",
   "execution_count": 94,
   "metadata": {
    "collapsed": true
   },
   "outputs": [],
   "source": []
  },
  {
   "cell_type": "code",
   "execution_count": 100,
   "metadata": {
    "collapsed": true
   },
   "outputs": [],
   "source": [
    "people_url = data.people_url.values.tolist()\n",
    "np.savetxt('people_url.out', people_url, fmt='%s')"
   ]
  },
  {
   "cell_type": "code",
   "execution_count": null,
   "metadata": {},
   "outputs": [],
   "source": [
    "urllist = np.loadtxt('people_url.out', dtype='|S').tolist()"
   ]
  },
  {
   "cell_type": "code",
   "execution_count": 114,
   "metadata": {},
   "outputs": [
    {
     "data": {
      "text/plain": [
       "numpy.dtype"
      ]
     },
     "execution_count": 114,
     "metadata": {},
     "output_type": "execute_result"
    }
   ],
   "source": [
    "np.dtype"
   ]
  },
  {
   "cell_type": "code",
   "execution_count": 145,
   "metadata": {},
   "outputs": [
    {
     "name": "stdout",
     "output_type": "stream",
     "text": [
      "b'https://www.douban.com/people/crashmyshadow/'\n",
      "b'https://www.douban.com/people/zombier/'\n",
      "b'https://www.douban.com/people/santafexuan/'\n",
      "b'https://www.douban.com/people/yoyoyoyoyoyoyo/'\n",
      "b'https://www.douban.com/people/ocean_kwai/'\n",
      "b'https://www.douban.com/people/Lan.die/'\n",
      "b'https://www.douban.com/people/neverlandofme/'\n",
      "b'https://www.douban.com/people/luanluanyu/'\n",
      "b'https://www.douban.com/people/beiliya/'\n",
      "b'https://www.douban.com/people/shawnj/'\n",
      "b'https://www.douban.com/people/oceanheart/'\n",
      "b'https://www.douban.com/people/wei21955/'\n",
      "b'https://www.douban.com/people/tjz230/'\n",
      "b'https://www.douban.com/people/qijiuzhiyue/'\n",
      "b'https://www.douban.com/people/hulu0918/'\n",
      "b'https://www.douban.com/people/rakumm/'\n",
      "b'https://www.douban.com/people/flyingappled/'\n",
      "b'https://www.douban.com/people/YIYAOJUN/'\n",
      "b'https://www.douban.com/people/sweetkiller/'\n",
      "b'https://www.douban.com/people/diewithme/'\n"
     ]
    }
   ],
   "source": [
    "for i in urllist:\n",
    "    print(i)"
   ]
  },
  {
   "cell_type": "code",
   "execution_count": 144,
   "metadata": {},
   "outputs": [
    {
     "data": {
      "text/plain": [
       "b'ttps://www.douban.com/people/crashmyshadow/'"
      ]
     },
     "execution_count": 144,
     "metadata": {},
     "output_type": "execute_result"
    }
   ],
   "source": [
    "urllist[0][1:]"
   ]
  },
  {
   "cell_type": "code",
   "execution_count": 178,
   "metadata": {
    "collapsed": true
   },
   "outputs": [],
   "source": [
    "data_people = pd.read_csv('../people.csv')"
   ]
  },
  {
   "cell_type": "code",
   "execution_count": 179,
   "metadata": {},
   "outputs": [
    {
     "data": {
      "text/html": [
       "<div>\n",
       "<table border=\"1\" class=\"dataframe\">\n",
       "  <thead>\n",
       "    <tr style=\"text-align: right;\">\n",
       "      <th></th>\n",
       "      <th>be_attention</th>\n",
       "      <th>introduction</th>\n",
       "      <th>location</th>\n",
       "      <th>friend</th>\n",
       "    </tr>\n",
       "  </thead>\n",
       "  <tbody>\n",
       "    <tr>\n",
       "      <th>0</th>\n",
       "      <td>&gt; 佛小FoChaos被1089人关注</td>\n",
       "      <td>买石头请加我微信 gemstory 不是公众号哦,blog地址： ,淘宝店：  ,微博：,p...</td>\n",
       "      <td>北京</td>\n",
       "      <td>成员645</td>\n",
       "    </tr>\n",
       "  </tbody>\n",
       "</table>\n",
       "</div>"
      ],
      "text/plain": [
       "          be_attention                                       introduction  \\\n",
       "0  > 佛小FoChaos被1089人关注  买石头请加我微信 gemstory 不是公众号哦,blog地址： ,淘宝店：  ,微博：,p...   \n",
       "\n",
       "  location friend  \n",
       "0       北京  成员645  "
      ]
     },
     "execution_count": 179,
     "metadata": {},
     "output_type": "execute_result"
    }
   ],
   "source": [
    "data_people"
   ]
  },
  {
   "cell_type": "code",
   "execution_count": 166,
   "metadata": {
    "collapsed": true
   },
   "outputs": [],
   "source": [
    "from scrapy import signals\n",
    "\n",
    "from selenium import webdriver\n",
    "from scrapy.http import HtmlResponse\n",
    "from lxml import etree\n",
    "import time\n",
    "from selenium.webdriver.common.action_chains import ActionChains\n",
    "from selenium.webdriver.common.desired_capabilities import DesiredCapabilities\n",
    "from random import choice\n",
    "\n",
    "#     header \n",
    "ua_list = [\n",
    "          \"Mozilla/5.0 (X11; Linux x86_64) AppleWebKit/537.36 (KHTML, like Gecko) Ubuntu Chromium/48.0.2564.82 Chrome/48.0.2564.82 Safari/537.36\",\n",
    "          \"Mozilla/5.0 (Windows NT 6.1) AppleWebKit/537.36 (KHTML, like Gecko) Chrome/41.0.2228.0 Safari/537.36\",\n",
    "          \"Mozilla/5.0 (Windows NT 10.0) AppleWebKit/537.36 (KHTML, like Gecko) Chrome/40.0.2214.93 Safari/537.36\",\n",
    "          \"Mozilla/5.0 (X11; OpenBSD i386) AppleWebKit/537.36 (KHTML, like Gecko) Chrome/36.0.1985.125 Safari/537.36\",\n",
    "          \"Mozilla/5.0 (Macintosh; Intel Mac OS X 10_9_0) AppleWebKit/537.36 (KHTML, like Gecko) Chrome/32.0.1664.3 Safari/537.36\"\n",
    "]\n",
    "\n",
    "import requests"
   ]
  },
  {
   "cell_type": "code",
   "execution_count": 162,
   "metadata": {
    "collapsed": true
   },
   "outputs": [],
   "source": [
    "dcap = dict(DesiredCapabilities.PHANTOMJS)\n",
    "dcap[\"phantomjs.page.settings.resourceTimeout\"] = 15 \n",
    "dcap[\"phantomjs.page.settings.loadImages\"] = False\n",
    "dcap[\"phantomjs.page.settings.userAgent\"] = choice(ua_list)"
   ]
  },
  {
   "cell_type": "code",
   "execution_count": 163,
   "metadata": {
    "collapsed": true
   },
   "outputs": [],
   "source": [
    "driver = webdriver.PhantomJS() "
   ]
  },
  {
   "cell_type": "code",
   "execution_count": 169,
   "metadata": {
    "collapsed": true
   },
   "outputs": [],
   "source": [
    "url = 'https://www.douban.com/people/crashmyshadow/'"
   ]
  },
  {
   "cell_type": "code",
   "execution_count": 171,
   "metadata": {
    "collapsed": true
   },
   "outputs": [],
   "source": [
    "driver.get(url)"
   ]
  },
  {
   "cell_type": "code",
   "execution_count": 172,
   "metadata": {
    "collapsed": true
   },
   "outputs": [],
   "source": [
    "driver.implicitly_wait(10)"
   ]
  },
  {
   "cell_type": "code",
   "execution_count": 173,
   "metadata": {
    "collapsed": true
   },
   "outputs": [],
   "source": [
    "time.sleep(10)"
   ]
  },
  {
   "cell_type": "code",
   "execution_count": 174,
   "metadata": {
    "collapsed": true
   },
   "outputs": [],
   "source": [
    "page = driver.page_source"
   ]
  },
  {
   "cell_type": "code",
   "execution_count": 175,
   "metadata": {
    "scrolled": false
   },
   "outputs": [
    {
     "data": {
      "text/plain": [
       "'<!DOCTYPE html><html lang=\"zh-cmn-Hans\" class=\"ua-mac ua-webkit\"><head>\\n    <meta http-equiv=\"Content-Type\" content=\"text/html; charset=utf-8\">\\n    <meta name=\"renderer\" content=\"webkit\">\\n    <meta name=\"referrer\" content=\"always\">\\n    <title>\\n佛小FoChaos\\n</title>\\n    \\n    <meta http-equiv=\"mobile-agent\" content=\"format=html5; url=https://www.douban.com/people/crashmyshadow/\">\\n    <meta http-equiv=\"Pragma\" content=\"no-cache\">\\n    <meta http-equiv=\"Expires\" content=\"Sun, 6 Mar 2005 01:00:00 GMT\">\\n    \\n    <link href=\"https://img3.doubanio.com/f/shire/94213e812acbb00123f685909b4768bb304d16f3/css/douban.css\" rel=\"stylesheet\" type=\"text/css\">\\n    <script type=\"text/javascript\" defer=\"\" async=\"\" src=\"https://img3.doubanio.com/dae/fundin/piwik.js\"></script><script async=\"\" src=\"//www.googletagmanager.com/gtm.js?id=GTM-5WP579\"></script><script type=\"text/javascript\">var _head_start = new Date();</script>\\n    <script type=\"text/javascript\" src=\"https://img3.doubanio.com/f/shire/72ced6df41d4d158420cebdd254f9562942464e3/js/jquery.min.js\"></script>\\n    <script type=\"text/javascript\" src=\"https://img3.doubanio.com/f/shire/77323ae72a612bba8b65f845491513ff3329b1bb/js/do.js\" data-cfg-autoload=\"false\"></script>\\n    <script type=\"text/javascript\" src=\"https://img3.doubanio.com/f/shire/7c755d690c065c747d3eca09cd3d58ca6d1c2218/js/douban.js\"></script>\\n    \\n\\n\\n<link rel=\"alternate\" href=\"https://www.douban.com/feed/people/crashmyshadow/interests\" type=\"application/rss+xml\" title=\"佛小FoChaos的收藏\">\\n\\n    <style type=\"text/css\">\\n.site-nav { margin-bottom: 6px }\\n#content { word-wrap: break-word; }\\n.captcha-input {border-radius:3px;-webkit-border-radius:3px;-moz-border-radius:3px;border:1px solid #B9B9B9;font-size:14px;height:18px;padding:5px;width:95px;}\\n.actfromfri img {padding-bottom:16px}\\n.actfromfri .event_long {width:70%}\\n#apps, #things { margin-bottom:35px; }\\n.sub-title { color:#666;border-bottom: 1px solid #ddd; margin-top:10px;}\\n.sort_helper { padding:20px;font-size:16px;color:#aaa; }\\n.edtext, .signature_display {\\n    margin: 5px 0;\\n}\\n.remark-display {\\n    color: #aaa;\\n}\\n\\nh1 .remark-edit {\\n    display: none;\\n}\\nh1:hover .remark-edit {\\n    display: inline;\\n}\\n.basic-info {\\n    display: table;\\n}\\n.basic-info .userface,\\n.basic-info .user-info {\\n    float: none;\\n    display: table-cell;\\n    vertical-align: top;\\n    overflow: visible;\\n}\\n.user-info { overflow:hidden;zoom:1; }\\n.user-info .medals {\\n    font-size: 0;\\n    margin-top: 10px;\\n}\\n.user-info .medal {\\n    display: inline-block;\\n    *display: inline;\\n    vertical-align: top;\\n    position: relative;\\n    margin-right: 5px;\\n    margin-bottom: 5px;\\n    font-size: 12px;\\n    zoom: 1;\\n}\\n.user-info .medal-hd {\\n    *display: inline;\\n    border: 1px solid #ccc;\\n    border-radius: 2px;\\n    font-size: 0;\\n    zoom: 1;\\n}\\n.user-info .medal-hd img {\\n    height: 20px;\\n    width: 26px;\\n}\\n.user-info .medal-hd span,\\n.user-info .medal-hd a {\\n    font-size: 0;\\n    display: inline-block;\\n    padding: 1px 11px;\\n    background: #fff;\\n}\\n.user-info .medal-bd {\\n    display: none;\\n    position: absolute;\\n    bottom: 27px;\\n    left: 50%;\\n    zoom: 1;\\n}\\n.user-info .medal-bd-list {\\n    position: relative;\\n    margin-left: -50%;\\n    margin-right: 50%;\\n    border: 1px solid;\\n    border-radius: 2px;\\n    background: #fff;\\n    line-height: 12px;\\n    box-shadow: 1px 1px 4px rgba(0, 0, 0, .3);\\n    z-index: 2;\\n    zoom: 1;\\n}\\n.user-info .medal-bd li {\\n    margin: 0;\\n    padding: 1px;\\n    white-space: nowrap;\\n    zoom: 1;\\n}\\n.user-info .medal-bd li+li {\\n    border-top: 1px dashed;\\n}\\n.user-info .medal-bd a {\\n    display: block;\\n    padding: 5px 8px;\\n    border-radius: 1px;\\n}\\n.user-info .medal-kind0,\\n.user-info .medal-kind0 a:link,\\n.user-info .medal-kind0 a:visited,\\n.user-info .medal-kind0 a:hover,\\n.user-info .medal-kind0 a:focus {\\n    color: #FF6862;\\n    background: #fff;\\n}\\n.user-info .medal-kind0 .medal-bd a:hover {\\n    color: #fff;\\n    background: #FF6862;\\n}\\n.user-info .medal-kind1,\\n.user-info .medal-kind1 a:link,\\n.user-info .medal-kind1 a:visited,\\n.user-info .medal-kind1 a:hover,\\n.user-info .medal-kind1 a:focus {\\n    color: #5394AB;\\n    background: #fff;\\n}\\n.user-info .medal-kind1 .medal-bd a:hover {\\n    color: #fff;\\n    background: #5394AB;\\n}\\n.user-info .medal-kind2 {\\n    color: #979797;\\n}\\n.user-info .medal-kind2 a:link,\\n.user-info .medal-kind2 a:visited,\\n.user-info .medal-kind2 a:hover,\\n.user-info .medal-kind2 a:focus {\\n    color: #454545;\\n    background: #fff;\\n}\\n.user-info .medal-kind2 .medal-bd a:hover {\\n    color: #fff;\\n    background: #454545;\\n}\\n.user-opt { clear:both; }\\n#user_guide { background: #f8f8f8; color: #666666; padding: 8px 20px; margin: 0 0 40px 0 } #user_guide .guide { color: #424242; font-size: 14px } #user_guide ol { margin: 20px 30px 20px 50px; padding: 0 } #user_guide ol li { list-style-type: none; zoom:1 }\\n#user_guide ol li.user-icon form { margin-bottom: 40px; overflow: hidden }\\n#user_guide ol li h5 a { color: #006600; font-size: 14px }\\n#user_guide ol li h5 a:hover { background: none; color: #005500 }\\n#user_guide ol li h5 a:active { background: none; color: #005500 }\\n#user_guide ol li.user-icon h5.todo { background: url(https://img3.doubanio.com/f/shire/475424d94342ce2eb59f1ba2bc391e11635613de/pics/guide_step_icon.gif) no-repeat left top }\\n#user_guide ol li.user-icon h5.done { background: url(https://img3.doubanio.com/f/shire/475424d94342ce2eb59f1ba2bc391e11635613de/pics/guide_step_icon.gif) no-repeat left -22px }\\n#user_guide ol li.user-intro h5.todo { background: url(https://img3.doubanio.com/f/shire/475424d94342ce2eb59f1ba2bc391e11635613de/pics/guide_step_icon.gif) no-repeat left -44px }\\n#user_guide ol li.user-intro h5.done { background: url(https://img3.doubanio.com/f/shire/475424d94342ce2eb59f1ba2bc391e11635613de/pics/guide_step_icon.gif) no-repeat left -66px }\\n#user_guide ol li h5 { color: #666666; font-size: 14px; line-height: 22px; padding-left: 30px; margin: 5px 0 ; zoom:1}\\n#user_guide ol li h5 span { padding-right: 25px; background: url(https://img3.doubanio.com/f/shire/f0524639dc701ad65bba07ecff7214afcc2ac321/pics/icon/icon-ok-g.gif) no-repeat right center }\\n#user_guide ol li form { display: none;padding-left: 30px }\\n#user_guide ol li textarea { width: 270px; height: 90px; border-radius: 3px; -webkit-border-radius: 3px; -moz-border-radius: 3px; border: 1px solid #c0c0c0; margin: 15px 0 0 0}\\n#user_guide #preview-icon-l { float: left; margin: 10px 10px 10px 0 }\\n#user_guide #preview-icon {  margin: 10px 10px 10px 0; float: left }\\n.bn-flat { display:-moz-inline-box;display:inline-block;border-width:1px;border-style:solid;border-color:#d9d9d9 #ccc #c9c9c9;*display:inline;*zoom:1;border-radius:4px;-moz-border-radius:4px;-webkit-border-radius:4px;overflow:hidden;vertical-align:middle; }\\n.bn-flat:hover { border-color: #c9c9c9; }\\n.bn-flat input { border:none;height:25px;padding:0 8px;color:#333;background:transparent url(https://img3.doubanio.com/f/shire/de4b852f2441b2e2e5e5562b775c6cc9eabedd3f/pics/site/sp_all_4.png) repeat-x 0 -700px\\\\9;outline:none;font-size:12px;*padding:3px 8px 0;margin:0 !important;cursor:pointer; border-radius:2px;-moz-border-radius:2px;-webkit-border-radius:2px; background-image: -moz-linear-gradient(-90deg, #ffffff 50%, #e9e8e8 100%); background-image: -webkit-gradient(linear,left top,left bottom, color-stop(0.5, #ffffff), color-stop(1, #e9e8e8)); }\\n.bn-flat input:hover { color:#333 !important;background-color:transparent !important;background-position: 1px -706px\\\\9; background-image: -moz-linear-gradient(-90deg, #f5f5f5 40%, #dedede 100%); background-image: -webkit-gradient(linear,left top,left bottom, color-stop(0.4, #f5f5f5), color-stop(1, #dedede)); }\\n.bn-flat input:active { background:#ebebeb !important; }\\n\\n@media all and (min-width:0px) {\\n    .bn-flat input { background:transparent url(https://img3.doubanio.com/f/shire/de4b852f2441b2e2e5e5562b775c6cc9eabedd3f/pics/site/sp_all_4.png) repeat-x 0 -700px; }\\n    .bn-flat input:hover { background-position: 1px 706px; }\\n}\\np.error , span.error { color: #ff0000 }\\np.tips { margin: 0; padding: 5px 0 12px 0 }\\n\\n/* dialog: donate  */\\n#dialog { padding:0; }\\n.dlg-hd { position:relative;padding:10px;background:#EBF5EB; }\\n.dlg-hd h3 { height:auto;color:#060;background:none; }\\n.bn-dlg-close { position:absolute;right:20px;top:10px; }\\na.bn-dlg-close:link, a.bn-dlg-close:visited { color:#b4b4b4; }\\na.bn-dlg-close:hover, a.bn-dlg-close:active { color:#fab0b6;background-color:transparent; }\\n\\n/* shuo_widget */\\n.aside .mbtr2 { padding-bottom:10px; }\\n\\n\\n.status-item{color:#333}.status-item .mod{margin:0;padding-bottom:12px;position:relative}.status-item .hd{float:left;margin:3px 20px 0 0;width:48px;height:48px}.status-item .bd{border-bottom:1px solid #eee;overflow:hidden;padding-bottom:14px;zoom:1;_width:517px;min-height:48px}.status-item .bd .text{margin:0 0 5px 0;font-size:13px;word-break:break-all}.status-item blockquote{margin:5px 0 5px 25px;padding:0 0 0 15px;background:url(https://img3.doubanio.com/f/shire/3aa1569bf2c602f12f5744a65ff458d179c4c765/pics/quotel.gif) no-repeat left 4px;width:375px;_width:365px}.status-item blockquote p{display:inline;background:url(https://img3.doubanio.com/f/shire/255fcb358bc814a4ee4eae37905c2a565da58ee9/pics/quoter.gif) no-repeat right bottom;padding:0 15px 0 0;word-wrap:break-word;*zoom:1}.status-item blockquote p img{vertical-align:bottom}.status-item .attachments{position:relative;overflow:hidden;zoom:1;_line-height:0;color:#999}.status-item .photo-set{max-width:128px;max-height:128px}.status-item .attachments div,.status-item .attachments h6,.status-item .attachments p{line-height:1.62}.status-item .description{margin:0;color:#aaa}.status-item .actions{margin:5px 0;color:#aaa}.status-item .actions a.btn{color:#7094b7}.status-item .actions a.btn:hover{background:#7094b7;color:#fff}.status-item .actions a.btn-unlike,.status-item .actions a.btn-unreshare{color:#999}.status-item .actions a.btn-unlike:hover,.status-item .actions a.btn-unreshare:hover{background:#999;color:#fff}.status-item .description,.status-item .attachments,.status-item .actions,.status-item .others{padding-left:24px}.status-item .attachments .description{padding-left:0;word-wrap:break-word}.status-item .big:hover{cursor:url(https://img3.doubanio.com/f/shire/899c1be80650f24c634f3f0d153bc60d0b4eec95/pics/icon/big.png),url(https://img3.doubanio.com/f/shire/555b9018bc9244a26d489e48267c0cd78d6625a5/pics/icon/big.cur),auto}.status-item .small:hover{cursor:url(https://img3.doubanio.com/f/shire/4a4db4321640fab2b32f253e71ff064daf8d2c90/pics/icon/small.png),url(https://img3.doubanio.com/f/shire/68970f423f4c7f63a6870ee4402152a00b2fea6d/pics/icon/small.cur),auto}.status-item .upload-pic-wrapper:hover{background:none}.status-item .others{display:none}.status-item .comments{position:relative;left:0;top:0;overflow:hidden;*zoom:1}.status-item .comments-items{_line-height:0}.status-item .comments-items p{margin:3px 0;color:#666;overflow:hidden;zoom:1;word-wrap:break-word;line-height:1.62}.status-item .comments-items .mover{background:#f2f2f2}.status-item .comments-items p em{float:left;width:80%;font-style:normal}.status-item .comments .comment-text{width:330px}.status-item .comments .add-more-comments,.comment-posted input{display:none}.status-item .comment-posted .add-more-comments{display:inline}.status-item .comments-items .btn-del{float:right;color:#aaa}.status-item .comments-items .btn-del:hover{color:#bbb;background:none}.status-item .likers{padding:0;color:#aaa}.status-item .likers em{max-width:300px;float:left;white-space:nowrap;text-overflow:ellipsis;-o-text-overflow:ellipsis;overflow:hidden;zoom:1;font-style:normal;_width:expression((documentElement.clientWidth >300) ? \"300px\" : \"auto\" )}.status-item .created_at a{color:#999}.status-item .created_at a:hover{background:#999;color:#fff}.status-item .reshared_by{background:url(https://img3.doubanio.com/f/shire/870e5f02529b16ca8c1720ba386abea791a12fed/pics/icon/reshared-icon.gif) no-repeat left center;padding:0 0 0 18px;color:#66a366}.status-current .bd{border-color:#bfddb7}.video-player{position:relative;left:0;top:0;zoom:1}.video-player img{width:130px;height:97px;border:0 none}.video-player .video-overlay{width:130px;height:97px;position:absolute;top:0;left:0;background:url(https://img3.doubanio.com/f/shire/7225a635202dc7b623e16a8dd83e0c28e76bc0a4/pics/video_overlay.png);cursor:pointer}.video-player .video-overlay:hover{background-position:0 -97px}* html .video-player .video-overlay{background:none;filter:progid:DXImageTransform.Microsoft.AlphaImageLoader(src=\\'/pics/video_overlay_ie6.png\\')}.video-player .video-object{display:none}.layout-1 .attachments{display:inline}.layout-1 .media img{float:right;margin-left:12px;max-height:100px;max-width:100px;_width:expression((documentElement.clientWidth >100) ? \"100px\" : \"auto\" )}.layout-None blockquote,.layout-2 blockquote{width:auto}.layout-3 .album,.layout-3 .media,.layout-None .media{float:left;margin:0 10px 10px 0;background:none;padding:0}.layout-3 .album{height:100px;width:100px;line-height:100px;vertical-align:middle;text-align:center;background:url(https://img3.doubanio.com/f/shire/2845e06e4eea41dc937dc5fd8cc37fbc77046a4b/pics/albumback_s.gif) 1px 1px no-repeat;padding:5px 8px 8px 5px}.layout-3 .album img{max-height:100px;max-width:100px;_width:expression((documentElement.clientWidth >100) ? \"100px\" : \"auto\" )}.layout-3 blockquote{clear:both}.layout-4 .media{float:left;margin:0 14px 10px 0}.combined-statuses{margin:0 0 10px 63px;padding:0 0 8px 0;border-bottom:1px solid #eee}.comments .mention-highlighter{top:2px;width:300px;padding:2px 0}.status-item .allstar50,.status-item .allstar50,.status-item .allstar45,.status-item .allstar40,.status-item .allstar35,.status-item .allstar30,.status-item .allstar25,.status-item .allstar20,.status-item .allstar15,.status-item .allstar10,.status-item .allstar05{margin-left:5px}.group-pics{overflow:hidden;zoom:1}.group-pics img{cursor:pointer}.group-pics .group-pics-more{display:none}.group-pics .group-pic{margin-right:7px}.group-pics .text-more{cursor:pointer;color:#999}.group-pic{position:relative;display:inline-block;*display:inline;zoom:1;vertical-align:top}.group-pic a{display:none}.group-pics-small .group-pic{float:left;clear:both;min-width:32px;min-height:32px;margin:0 0 10px 0;line-height:0;font-size:0}.group-pics-small a{display:block;position:absolute;right:0;bottom:0;width:32px;height:32px;line-height:100em;text-align:center;overflow:hidden}.group-pics-small .group-pic a:link,.group-pics-small .group-pic a:visited,.group-pics-small .group-pic a:hover,.group-pics-small .group-pic a:active{opacity:.8;filter:alpha(opacity=80);background:url(https://img3.doubanio.com/f/sns/fbe9baba74d3637b0cca89380b58762a60ea6f82/pics/icon_zoom_in.png) no-repeat}.group-pics-small .group-pic a:hover{opacity:1;filter:alpha(opacity=100)}.group-pics-small .group-pics-more{display:block}.group-pics-small .text-more{display:none}\\n\\n\\n.status-item .description, .status-item .attachments, .status-item .actions, .status-item .others { padding-left: 0 }\\n.status-item .bd { margin-left: 0; width: auto }\\n.status-item blockquote { margin-left: 0; width: auto }\\n.review-short .ll { display:none;}\\n\\n/* photo aside */\\n.aside  #photo .photo-btns { margin: 0 0 5px; position: relative; right:0; top:0; width: auto; text-align: left; }\\n.aside #photo .btn-pic-upload { margin-left: 0; margin-right:1em; }\\n\\n/* review */\\n#review { word-wrap: break-word; }\\n</style>\\n    <link rel=\"stylesheet\" href=\"https://img3.doubanio.com/misc/mixed_static/3cfd45f3899820dc.css\">\\n    <script type=\"text/javascript\">  </script>\\n\\n    <link rel=\"shortcut icon\" href=\"https://img3.doubanio.com/favicon.ico\" type=\"image/x-icon\">\\n<script src=\"https://ssl.google-analytics.com/ga.js\" async=\"true\"></script></head>\\n\\n<body>\\n  \\n    <script type=\"text/javascript\">var _body_start = new Date();</script>\\n    \\n  \\n\\n\\n\\n    <link href=\"//img3.doubanio.com/dae/accounts/resources/6034966/shire/bundle.css\" rel=\"stylesheet\" type=\"text/css\">\\n\\n\\n\\n<div id=\"db-global-nav\" class=\"global-nav\">\\n  <div class=\"bd\">\\n    \\n<div class=\"top-nav-info\">\\n  <a href=\"https://www.douban.com/accounts/login?source=main\" class=\"nav-login\" rel=\"nofollow\">登录</a>\\n  <a href=\"https://www.douban.com/accounts/register?source=main\" class=\"nav-register\" rel=\"nofollow\">注册</a>\\n</div>\\n\\n\\n    \\n<div class=\"top-nav-doubanapp\">\\n  <a href=\"https://www.douban.com/doubanapp/app?channel=top-nav\" class=\"lnk-doubanapp\">下载豆瓣客户端</a>\\n  <div id=\"top-nav-appintro\" class=\"more-items\">\\n    <p class=\"appintro-title\">豆瓣</p>\\n    <p class=\"slogan\">我们的精神角落</p>\\n    <p class=\"qrcode\">扫码直接下载</p>\\n    <div class=\"download\">\\n      <a href=\"https://www.douban.com/doubanapp/redirect?channel=top-nav&amp;direct_dl=1&amp;download=iOS\">iPhone</a>\\n      <span>·</span>\\n      <a href=\"https://www.douban.com/doubanapp/redirect?channel=top-nav&amp;direct_dl=1&amp;download=Android\" class=\"download-android\">Android</a>\\n    </div>\\n    <div id=\"doubanapp-tip\" style=\"display: block;\">\\n      <a href=\"https://www.douban.com/doubanapp/app?channel=qipao\" class=\"tip-link\">豆瓣 5.0 全新发布</a>\\n      <a href=\"javascript: void 0;\" class=\"tip-close\">×</a>\\n    </div>\\n  </div>\\n</div>\\n\\n    \\n\\n\\n<div class=\"global-nav-items\">\\n  <ul>\\n    <li class=\"on\">\\n      <a href=\"https://www.douban.com\" data-moreurl-dict=\"{&quot;from&quot;:&quot;top-nav-click-main&quot;,&quot;uid&quot;:&quot;0&quot;}\">豆瓣</a>\\n    </li>\\n    <li class=\"\">\\n      <a href=\"https://book.douban.com\" target=\"_blank\" data-moreurl-dict=\"{&quot;from&quot;:&quot;top-nav-click-book&quot;,&quot;uid&quot;:&quot;0&quot;}\">读书</a>\\n    </li>\\n    <li class=\"\">\\n      <a href=\"https://movie.douban.com\" target=\"_blank\" data-moreurl-dict=\"{&quot;from&quot;:&quot;top-nav-click-movie&quot;,&quot;uid&quot;:&quot;0&quot;}\">电影</a>\\n    </li>\\n    <li class=\"\">\\n      <a href=\"https://music.douban.com\" target=\"_blank\" data-moreurl-dict=\"{&quot;from&quot;:&quot;top-nav-click-music&quot;,&quot;uid&quot;:&quot;0&quot;}\">音乐</a>\\n    </li>\\n    <li class=\"\">\\n      <a href=\"https://www.douban.com/location\" target=\"_blank\" data-moreurl-dict=\"{&quot;from&quot;:&quot;top-nav-click-location&quot;,&quot;uid&quot;:&quot;0&quot;}\">同城</a>\\n    </li>\\n    <li class=\"\">\\n      <a href=\"https://www.douban.com/group\" target=\"_blank\" data-moreurl-dict=\"{&quot;from&quot;:&quot;top-nav-click-group&quot;,&quot;uid&quot;:&quot;0&quot;}\">小组</a>\\n    </li>\\n    <li class=\"\">\\n      <a href=\"https://read.douban.com/?dcs=top-nav&amp;dcm=douban\" target=\"_blank\" data-moreurl-dict=\"{&quot;from&quot;:&quot;top-nav-click-read&quot;,&quot;uid&quot;:&quot;0&quot;}\">阅读</a>\\n    </li>\\n    <li class=\"\">\\n      <a href=\"https://douban.fm/?from_=shire_top_nav\" target=\"_blank\" data-moreurl-dict=\"{&quot;from&quot;:&quot;top-nav-click-fm&quot;,&quot;uid&quot;:&quot;0&quot;}\">FM</a>\\n    </li>\\n    <li class=\"\">\\n      <a href=\"https://www.douban.com/time/?dt_time_source=douban-web_top_nav\" target=\"_blank\" data-moreurl-dict=\"{&quot;from&quot;:&quot;top-nav-click-time&quot;,&quot;uid&quot;:&quot;0&quot;}\">时间</a>\\n    </li>\\n    <li class=\"\">\\n      <a href=\"https://dongxi.douban.com/?dcs=top-nav&amp;dcm=douban\" target=\"_blank\" data-moreurl-dict=\"{&quot;from&quot;:&quot;top-nav-click-commodity&quot;,&quot;uid&quot;:&quot;0&quot;}\">东西</a>\\n    </li>\\n    <li class=\"\">\\n      <a href=\"https://market.douban.com/?utm_campaign=douban_top_nav&amp;utm_source=douban&amp;utm_medium=pc_web\" target=\"_blank\" data-moreurl-dict=\"{&quot;from&quot;:&quot;top-nav-click-market&quot;,&quot;uid&quot;:&quot;0&quot;}\">市集</a>\\n    </li>\\n    <li>\\n      <a href=\"#more\" class=\"bn-more\"><span>更多</span></a>\\n      <div class=\"more-items\">\\n        <table cellpadding=\"0\" cellspacing=\"0\">\\n          <tbody>\\n            <tr>\\n              <td>\\n                <a href=\"https://ypy.douban.com\" target=\"_blank\" data-moreurl-dict=\"{&quot;from&quot;:&quot;top-nav-click-ypy&quot;,&quot;uid&quot;:&quot;0&quot;}\">豆瓣摄影</a>\\n              </td>\\n            </tr>\\n          </tbody>\\n        </table>\\n      </div>\\n    </li>\\n  </ul>\\n</div>\\n\\n  </div>\\n</div>\\n<script>\\n  ;window._GLOBAL_NAV = {\\n    DOUBAN_URL: \"https://www.douban.com\",\\n    N_NEW_NOTIS: 0,\\n    N_NEW_DOUMAIL: 0\\n  };\\n</script>\\n\\n\\n\\n    <script src=\"//img3.doubanio.com/dae/accounts/resources/6034966/shire/bundle.js\" defer=\"defer\"></script>\\n\\n\\n\\n\\n  \\n\\n\\n\\n    <link href=\"//img3.doubanio.com/dae/accounts/resources/2b3878d/sns/bundle.css\" rel=\"stylesheet\" type=\"text/css\">\\n\\n\\n\\n<div id=\"db-nav-sns\" class=\"nav\">\\n  <div class=\"nav-wrap\">\\n    <div class=\"nav-primary\">\\n     \\n      <div class=\"nav-logo\">\\n        <a href=\"https://www.douban.com\">豆瓣社区</a>\\n      </div>\\n\\n      <div class=\"nav-search\">\\n  <form action=\"https://www.douban.com/search\" method=\"get\">\\n\\t<fieldset>\\n      <legend>搜索：</legend>\\n\\t  <label for=\"inp-query\" style=\"display: none;\">搜索你感兴趣的内容和人...</label>\\n\\t  <div class=\"inp\">\\n\\t    <input type=\"hidden\" name=\"source\" value=\"suggest\">\\n\\t\\t<input id=\"inp-query\" name=\"q\" size=\"22\" maxlength=\"60\" autocomplete=\"off\" value=\"\" placeholder=\"搜索你感兴趣的内容和人...\">\\n\\t  </div>\\n\\t  <div class=\"inp-btn\"><input type=\"submit\" value=\"搜索\"></div>\\n\\t</fieldset>\\n  </form>\\n</div>\\n\\n      \\n\\n<div class=\"nav-items\">\\n  <ul>\\n    <li><a href=\"https://www.douban.com\">首页</a></li>\\n      <li>\\n        <a href=\"https://www.douban.com/explore\">\\n          浏览发现\\n        </a>\\n      </li>\\n      <li>\\n        <a href=\"https://www.douban.com/gallery\">\\n          话题广场\\n          <img src=\"https://img3.doubanio.com/f/shire/e49eca1517424a941871a2667a8957fd6c72d632/pics/new_menu.gif\" alt=\"new\" style=\"position: absolute; top: -7px; right: -13px;\">\\n        </a>\\n      </li>\\n  </ul>\\n</div>\\n\\n    </div>\\n  </div>\\n</div>\\n\\n\\n\\n    <script src=\"//img3.doubanio.com/dae/accounts/resources/2b3878d/sns/bundle.js\" defer=\"defer\"></script>\\n\\n\\n\\n\\n\\n    <div id=\"wrapper\">\\n        \\n\\n        \\n<div id=\"content\">\\n    \\n\\n    <div class=\"grid-16-8 clearfix\">\\n        \\n        \\n        <div class=\"article\">\\n               \\n\\n\\n\\n\\n\\n<div id=\"db-usr-profile\">\\n\\n<div class=\"pic\">\\n    <a href=\"https://www.douban.com/people/crashmyshadow/\">\\n        <img src=\"https://img1.doubanio.com/icon/u2500900-9.jpg\" alt=\"佛小FoChaos\">\\n    </a>\\n</div>\\n<div class=\"info\">\\n    <h1>\\n        佛小FoChaos\\n            \\n\\n            \\n    \\n        <div id=\"display\" class=\"signature_display pl\">买货加我微信gemstory.</div>\\n\\n    </h1>\\n    <ul>\\n          <li><a href=\"https://www.douban.com/people/crashmyshadow/\">佛小FoChaos的主页</a></li>\\n          <li><a href=\"https://www.douban.com/people/crashmyshadow/statuses\">广播</a></li>\\n          <li><a href=\"https://www.douban.com/people/crashmyshadow/photos\">相册</a></li>\\n          <li><a href=\"https://www.douban.com/people/crashmyshadow/notes\">日记</a></li>\\n          <li><a href=\"https://www.douban.com/people/crashmyshadow/likes/\">喜欢</a></li>\\n          <li><a href=\"https://www.douban.com/people/crashmyshadow/doulists/\">豆列</a></li>\\n    </ul>\\n</div>\\n</div>\\n<div class=\"clear\"></div>\\n\\n\\n\\n\\n\\n\\n\\n\\n\\n\\n\\n\\n\\n\\n\\n\\n            \\n    <div class=\" \" id=\"game\">\\n    \\n\\n\\n\\n\\n\\n\\n    </div>\\n\\n            \\n    <div class=\" \" id=\"photo\">\\n    \\n\\n\\n\\n\\n\\n\\n  \\n    <h2>\\n        佛小FoChaos的相册\\n            &nbsp;·&nbsp;·&nbsp;·&nbsp;·&nbsp;·&nbsp;·\\n            <span class=\"pl\">&nbsp;(\\n                \\n                <a href=\"https://www.douban.com/people/crashmyshadow/photos\" target=\"_self\">创建16</a>&nbsp;·&nbsp;<a href=\"https://www.douban.com/people/crashmyshadow/album/collect\" target=\"_self\">关注0</a>\\n                ) </span>\\n    </h2>\\n\\n  <div style=\"width:590px;\">\\n        \\n        <div class=\"photoin\">\\n          <a class=\"nbg\" href=\"https://www.douban.com/photos/album/85273861/\" title=\"我也有买家秀鸟\" alt=\"我也有买家秀鸟\">\\n            <img src=\"https://img1.doubanio.com/view/photo/albumicon/public/p1856655207.jpg\" class=\"album_s\">\\n          </a>\\n          <div class=\"ll pl\" style=\"padding-top:8px;width:138px\">\\n            <a href=\"https://www.douban.com/photos/album/85273861/\">我也有买家秀鸟</a>\\n            <br>2014-12-02更新\\n          </div>\\n        </div>\\n        \\n        <div class=\"photoin\">\\n          <a class=\"nbg\" href=\"https://www.douban.com/photos/album/83185689/\" title=\"换钱（交易基本在微信gemstory平台进行）\" alt=\"换钱（交易基本在微信gemstory平台进行）\">\\n            <img src=\"https://img3.doubanio.com/view/photo/albumicon/public/p1832653483.jpg\" class=\"album_s\">\\n          </a>\\n          <div class=\"ll pl\" style=\"padding-top:8px;width:138px\">\\n            <a href=\"https://www.douban.com/photos/album/83185689/\">换钱（交易基本...</a>\\n            <br>2014-12-02更新\\n          </div>\\n        </div>\\n        \\n        <div class=\"photoin\">\\n          <a class=\"nbg\" href=\"https://www.douban.com/photos/album/84470146/\" title=\"已换钱，同款可定制。\" alt=\"已换钱，同款可定制。\">\\n            <img src=\"https://img1.doubanio.com/view/photo/albumicon/public/p1838673527.jpg\" class=\"album_s\">\\n          </a>\\n          <div class=\"ll pl\" style=\"padding-top:8px;width:138px\">\\n            <a href=\"https://www.douban.com/photos/album/84470146/\">已换钱，同款可...</a>\\n            <br>2014-11-29更新\\n          </div>\\n        </div>\\n        \\n        <div class=\"photoin\">\\n          <a class=\"nbg\" href=\"https://www.douban.com/photos/album/82267997/\" title=\"ANTANANARIVO\" alt=\"ANTANANARIVO\">\\n            <img src=\"https://img3.doubanio.com/view/photo/albumicon/public/p2158749852.jpg\" class=\"album_s\">\\n          </a>\\n          <div class=\"ll pl\" style=\"padding-top:8px;width:138px\">\\n            <a href=\"https://www.douban.com/photos/album/82267997/\">ANTANANARIVO</a>\\n            <br>2013-11-15更新\\n          </div>\\n        </div>\\n      <div class=\"clear\"></div>\\n  </div>\\n\\n    </div>\\n\\n            \\n    <div class=\" \" id=\"note\">\\n    \\n\\n\\n\\n\\n\\n\\n\\n\\n\\n\\n\\n    \\n    <h2>\\n        佛小FoChaos的日记\\n            &nbsp;·&nbsp;·&nbsp;·&nbsp;·&nbsp;·&nbsp;·\\n            <span class=\"pl\">&nbsp;(\\n                \\n                    <a href=\"https://www.douban.com/people/crashmyshadow/notes\" target=\"_self\">全部</a>\\n                ) </span>\\n    </h2>\\n\\n\\n\\n    <div class=\"content\">\\n        \\n        \\n            <div class=\"mbtr2\">\\n        <div class=\"note-header pl2\">\\n            <a title=\"Janka Prokic：心上生出一朵花\" href=\"https://www.douban.com/note/426157728/\" class=\"ll\">Janka Prokic：心上生出一朵花</a>\\n        <br>\\n        <div><span class=\"pl\">2014-09-19 22:16:26</span></div>\\n        </div><div class=\"clear\"></div>\\n\\n        <div class=\"note\" id=\"note_426157728_short\"><div class=\"ll\"><a href=\"https://www.douban.com/note/426157728/\"><img src=\"https://img3.doubanio.com/view/note/small/public/p19270735.jpg\" alt=\"\"></a></div>Janka Prokic：心上生出一朵花     Janka Prokic的首饰绝对不是为深居简出的大家闺秀准备的，她更偏爱生活化的女孩，她们最好头发里满是草叶上露珠的气息。        这个来自贝尔格莱德的80后设计师今年6月推出了自己的新作品“花”系列。就像蒲公英的叶子一样，花朵随风四散飘落，被那些在山野中劳作的女孩们捡到，别在自己......</div>\\n\\n            </div>\\n        <div class=\"clear\"></div>\\n        \\n            <div class=\"mbtr2\">\\n        <div class=\"note-header pl2\">\\n            <a title=\"Alessandro Dari：手指上流动的雕塑\" href=\"https://www.douban.com/note/424803057/\" class=\"ll\">Alessandro Dari：手指上流动的雕塑</a>\\n        <br>\\n        <div><span class=\"pl\">2014-09-17 20:26:30</span></div>\\n        </div><div class=\"clear\"></div>\\n\\n        <div class=\"note\" id=\"note_424803057_short\"><div class=\"ll\"><a href=\"https://www.douban.com/note/424803057/\"><img src=\"https://img3.doubanio.com/view/note/small/public/p19136970.jpg\" alt=\"\"></a></div>Alessandro Dari：手指上流动的雕塑       第一眼看到他的作品，作为一个手作人我的心重重地抖了一下，体会到巨大的震撼与绝望。他的作品中那种扑面而来的力量，就像很多雕塑作品呈现出来的感觉，那种凝结不动却又感觉要喷薄而出的那种张力。绝望是因为他让我浅薄地见识过的所有原创首饰，包括我自己曾引以为傲的那些拙作黯......&nbsp; &nbsp; <a href=\"https://www.douban.com/note/424803057/#comments\">(2回应)</a></div>\\n\\n            </div>\\n        <div class=\"clear\"></div>\\n    <div class=\"clear\"></div>\\n\\n    </div>\\n\\n\\n\\n\\n\\n    </div>\\n\\n            \\n    <div class=\" \" id=\"music\">\\n    \\n\\n\\n\\n\\n\\n\\n\\n\\n\\n\\n\\n    \\n    <h2>\\n        佛小FoChaos的音乐\\n            &nbsp;·&nbsp;·&nbsp;·&nbsp;·&nbsp;·&nbsp;·\\n            <span class=\"pl\">&nbsp;(\\n                \\n                <a href=\"https://music.douban.com/people/crashmyshadow/do\" target=\"_blank\">940张在听</a>&nbsp;·&nbsp;<a href=\"https://music.douban.com/people/crashmyshadow/wish\" target=\"_blank\">571张想听</a>&nbsp;·&nbsp;<a href=\"https://music.douban.com/people/crashmyshadow/collect\" target=\"_blank\">282张听过</a>\\n                ) </span>\\n    </h2>\\n\\n\\n    \\n    \\n            <div class=\"obssin\">\\n                <div class=\"substatus\">在听</div>\\n                <ul><li class=\"aob\"><a href=\"https://music.douban.com/subject/5031096/\" title=\"Chris Whitley - Living With the Law\" target=\"_blank\"><img src=\"https://img3.doubanio.com/spic/s4439990.jpg\" class=\"climg\" alt=\"Chris Whitley - Living With the Law\"></a></li>\\n            <li class=\"aob\"><a href=\"https://music.douban.com/subject/5347068/\" title=\"Massive Attack - Atlas Air\" target=\"_blank\"><img src=\"https://img3.doubanio.com/spic/s4567282.jpg\" class=\"climg\" alt=\"Massive Attack - Atlas Air\"></a></li>\\n            <li class=\"aob\"><a href=\"https://music.douban.com/subject/5496404/\" title=\"Jablkon - Best of Mala Lesni\" target=\"_blank\"><img src=\"https://img3.doubanio.com/spic/s4584203.jpg\" class=\"climg\" alt=\"Jablkon - Best of Mala Lesni\"></a></li>\\n            <li class=\"aob\"><a href=\"https://music.douban.com/subject/1394762/\" title=\"Bill Evans Trio - Waltz For Debby\" target=\"_blank\"><img src=\"https://img3.doubanio.com/spic/s4714720.jpg\" class=\"climg\" alt=\"Bill Evans Trio - Waltz For Debby\"></a></li>\\n            <li class=\"aob\"><a href=\"https://music.douban.com/subject/1432854/\" title=\"Joe Satriani - Time Machine\" target=\"_blank\"><img src=\"https://img3.doubanio.com/spic/s9126953.jpg\" class=\"climg\" alt=\"Joe Satriani - Time Machine\"></a></li>\\n            </ul>\\n            <div class=\"clear\"></div></div>\\n        \\n    \\n            <div class=\"obssin\">\\n                <div class=\"substatus\">想听</div>\\n                <ul><li class=\"aob\"><a href=\"https://music.douban.com/subject/3001413/\" title=\"Tzar Nikolai - Zhanna Bichevskaya\" target=\"_blank\"><img src=\"https://img3.doubanio.com/spic/s2955871.jpg\" class=\"climg\" alt=\"Tzar Nikolai - Zhanna Bichevskaya\"></a></li>\\n            <li class=\"aob\"><a href=\"https://music.douban.com/subject/1791067/\" title=\"Darkthrone - Under A Funeral Moon\" target=\"_blank\"><img src=\"https://img3.doubanio.com/spic/s4715982.jpg\" class=\"climg\" alt=\"Darkthrone - Under A Funeral Moon\"></a></li>\\n            <li class=\"aob\"><a href=\"https://music.douban.com/subject/1785711/\" title=\"Darkthrone - Transilvanian Hunger\" target=\"_blank\"><img src=\"https://img3.doubanio.com/spic/s4714434.jpg\" class=\"climg\" alt=\"Darkthrone - Transilvanian Hunger\"></a></li>\\n            <li class=\"aob\"><a href=\"https://music.douban.com/subject/1827187/\" title=\"Anthrax - Among the Living\" target=\"_blank\"><img src=\"https://img3.doubanio.com/spic/s27888711.jpg\" class=\"climg\" alt=\"Anthrax - Among the Living\"></a></li>\\n            <li class=\"aob\"><a href=\"https://music.douban.com/subject/1897923/\" title=\"Anthrax - Anthrax Live: The Island Years\" target=\"_blank\"><img src=\"https://img3.doubanio.com/spic/s1876066.jpg\" class=\"climg\" alt=\"Anthrax - Anthrax Live: The Island Years\"></a></li>\\n            </ul>\\n            <div class=\"clear\"></div></div>\\n        \\n    \\n\\n\\n\\n\\n    </div>\\n\\n            \\n    <div class=\" \" id=\"commodity\">\\n    \\n\\n\\n\\n\\n\\n\\n    \\n    <h2>\\n        佛小FoChaos的东西\\n            &nbsp;·&nbsp;·&nbsp;·&nbsp;·&nbsp;·&nbsp;·\\n            <span class=\"pl\">&nbsp;(\\n                \\n                <a href=\"https://dongxi.douban.com/people/crashmyshadow/doulists\" target=\"_blank\">豆列3</a>&nbsp;·&nbsp;<a href=\"https://dongxi.douban.com/people/crashmyshadow/shows\" target=\"_blank\">发布25</a>&nbsp;·&nbsp;<a href=\"https://dongxi.douban.com/people/crashmyshadow/like/shows\" target=\"_blank\">喜欢11</a>\\n                ) </span>\\n    </h2>\\n\\n\\n    <div class=\"obssin\">\\n    \\n<div class=\"substatus\">豆列</div>\\n<ul>\\n     <li class=\"aob\">\\n        <a title=\"佛小FoChaos相册里的东西\" href=\"https://dongxi.douban.com/doulist/1209415/\" target=\"_blank\">\\n            <img alt=\"佛小FoChaos相册里的东西\" class=\"climg\" src=\"https://img1.doubanio.com/view/commodity_doulist/medium/public/f6c0c66222c5bcb.jpg\" width=\"80\" height=\"80\">\\n        </a>\\n     </li>\\n     <li class=\"aob\">\\n        <a title=\"欲望\" href=\"https://dongxi.douban.com/doulist/1174427/\" target=\"_blank\">\\n            <img alt=\"欲望\" class=\"climg\" src=\"https://img3.doubanio.com/view/commodity_doulist/medium/public/b27582faebfaa12.jpg\" width=\"80\" height=\"80\">\\n        </a>\\n     </li>\\n     <li class=\"aob\">\\n        <a title=\"佛小FoChaos相册里的东西\" href=\"https://dongxi.douban.com/doulist/1208905/\" target=\"_blank\">\\n            <img alt=\"佛小FoChaos相册里的东西\" class=\"climg\" src=\"https://img3.doubanio.com/view/commodity_doulist/medium/public/6dc59f71bdfb6b1.jpg\" width=\"80\" height=\"80\">\\n        </a>\\n     </li>\\n</ul>\\n<div class=\"clear\"></div>\\n\\n    </div>\\n\\n    <div class=\"obssin\">\\n    \\n<div class=\"substatus\">发布</div>\\n<ul>\\n     <li class=\"aob\">\\n        <a title=\"珊瑚树状祖母绿原石项链\" href=\"https://dongxi.douban.com/show/1330211/\" target=\"_blank\">\\n            <img alt=\"珊瑚树状祖母绿原石项链\" class=\"climg\" src=\"https://img1.doubanio.com/view/commodity_story/small/public/p5565517.jpg\" width=\"80\" height=\"80\">\\n        </a>\\n     </li>\\n     <li class=\"aob\">\\n        <a title=\"马达加斯加磷灰石戒指 婚戒\" href=\"https://dongxi.douban.com/show/1328932/\" target=\"_blank\">\\n            <img alt=\"马达加斯加磷灰石戒指 婚戒\" class=\"climg\" src=\"https://img3.doubanio.com/view/commodity_story/small/public/p5560153.jpg\" width=\"80\" height=\"80\">\\n        </a>\\n     </li>\\n     <li class=\"aob\">\\n        <a title=\"马达加斯加产红宝石原石 原创设计树枝项链吊坠\" href=\"https://dongxi.douban.com/show/1327164/\" target=\"_blank\">\\n            <img alt=\"马达加斯加产红宝石原石 原创设计树枝项链吊坠\" class=\"climg\" src=\"https://img3.doubanio.com/view/commodity_story/small/public/p5554155.jpg\" width=\"80\" height=\"80\">\\n        </a>\\n     </li>\\n     <li class=\"aob\">\\n        <a title=\"彩色蓝宝石 粉色蓝宝石 变彩蓝宝石 裸石原石\" href=\"https://dongxi.douban.com/show/1322832/\" target=\"_blank\">\\n            <img alt=\"彩色蓝宝石 粉色蓝宝石 变彩蓝宝石 裸石原石\" class=\"climg\" src=\"https://img1.doubanio.com/view/commodity_story/small/public/p5542499.jpg\" width=\"80\" height=\"80\">\\n        </a>\\n     </li>\\n     <li class=\"aob\">\\n        <a title=\"寒梅傲雪 红宝石原石 原创设计树枝项链吊坠\" href=\"https://dongxi.douban.com/show/1322519/\" target=\"_blank\">\\n            <img alt=\"寒梅傲雪 红宝石原石 原创设计树枝项链吊坠\" class=\"climg\" src=\"https://img3.doubanio.com/view/commodity_story/small/public/p5541933.jpg\" width=\"80\" height=\"80\">\\n        </a>\\n     </li>\\n</ul>\\n<div class=\"clear\"></div>\\n\\n    </div>\\n\\n    <div class=\"obssin\">\\n    \\n<div class=\"substatus\">喜欢</div>\\n<ul>\\n     <li class=\"aob\">\\n        <a title=\"纯银紫水晶戒指 海外代购 代购美国设计师首饰\" href=\"https://dongxi.douban.com/show/1558392/\" target=\"_blank\">\\n            <img alt=\"纯银紫水晶戒指 海外代购 代购美国设计师首饰\" class=\"climg\" src=\"https://img3.doubanio.com/view/commodity_story/small/public/p7650873.jpg\" width=\"80\" height=\"80\">\\n        </a>\\n     </li>\\n     <li class=\"aob\">\\n        <a title=\"Vintage莱茵石仿钻戒指 | G5204904137085\" href=\"https://dongxi.douban.com/show/2115466/\" target=\"_blank\">\\n            <img alt=\"Vintage莱茵石仿钻戒指 | G5204904137085\" class=\"climg\" src=\"https://img3.doubanio.com/view/commodity_story/small/public/p9528622.jpg\" width=\"80\" height=\"80\">\\n        </a>\\n     </li>\\n     <li class=\"aob\">\\n        <a title=\"全国首发 nomos 2013新款Tangente 无国界限量版164.s2 38mm现货\" href=\"https://dongxi.douban.com/show/1120400/\" target=\"_blank\">\\n            <img alt=\"全国首发 nomos 2013新款Tangente 无国界限量版164.s2 38mm现货\" class=\"climg\" src=\"https://img1.doubanio.com/view/commodity_story/small/public/p2464107.jpg\" width=\"80\" height=\"80\">\\n        </a>\\n     </li>\\n     <li class=\"aob\">\\n        <a title=\"Sony/索尼 VPCCB38EC CB48 CA18 CA37 500G 笔记本电脑 绿色\" href=\"https://dongxi.douban.com/show/1873654/\" target=\"_blank\">\\n            <img alt=\"Sony/索尼 VPCCB38EC CB48 CA18 CA37 500G 笔记本电脑 绿色\" class=\"climg\" src=\"https://img3.doubanio.com/view/commodity_story/small/public/p8696844.jpg\" width=\"80\" height=\"80\">\\n        </a>\\n     </li>\\n     <li class=\"aob\">\\n        <a title=\"莫莉 原创设计 刀马旦 京剧脸谱 戒指\" href=\"https://dongxi.douban.com/show/1068703/\" target=\"_blank\">\\n            <img alt=\"莫莉 原创设计 刀马旦 京剧脸谱 戒指\" class=\"climg\" src=\"https://img3.doubanio.com/view/commodity_story/small/public/p878033.jpg\" width=\"80\" height=\"80\">\\n        </a>\\n     </li>\\n</ul>\\n<div class=\"clear\"></div>\\n\\n    </div>\\n\\n\\n\\n\\n\\n\\n\\n\\n\\n    </div>\\n\\n            \\n    <div class=\" \" id=\"things\">\\n    \\n\\n\\n\\n\\n\\n\\n    <h2>\\n        佛小FoChaos的条目\\n            &nbsp;·&nbsp;·&nbsp;·&nbsp;·&nbsp;·&nbsp;·\\n            <span class=\"pl\">&nbsp;(\\n                \\n                    <a href=\"https://www.douban.com/people/crashmyshadow/things\" target=\"_self\">全部45</a>\\n                ) </span>\\n    </h2>\\n\\n\\n    <div class=\"obssin\">\\n    \\n    <div class=\"substatus\">喜欢</div>\\n    <ul>\\n    <li class=\"aob\">\\n        <a title=\"小米MI3\" href=\"https://www.douban.com/subject/25751040/\"><img alt=\"小米MI3\" class=\"climg\" src=\"https://img3.doubanio.com/mpic/s27101191.jpg\" width=\"80\"></a>\\n    </li>\\n    <li class=\"aob\">\\n        <a title=\"万宝路（爆珠黑冰）\" href=\"https://www.douban.com/subject/11443336/\"><img alt=\"万宝路（爆珠黑冰）\" class=\"climg\" src=\"https://img3.doubanio.com/mpic/s10588706.jpg\" width=\"80\"></a>\\n    </li>\\n    <li class=\"aob\">\\n        <a title=\"猫鼬\" href=\"https://www.douban.com/subject/20414122/\"><img alt=\"猫鼬\" class=\"climg\" src=\"https://img3.doubanio.com/mpic/s24450114.jpg\" width=\"80\"></a>\\n    </li>\\n    <li class=\"aob\">\\n        <a title=\"陶华碧老干妈牌风味豆豉油制辣椒\" href=\"https://www.douban.com/subject/10741026/\"><img alt=\"陶华碧老干妈牌风味豆豉油制辣椒\" class=\"climg\" src=\"https://img3.doubanio.com/mpic/s9126733.jpg\" width=\"80\"></a>\\n    </li>\\n    <li class=\"aob\">\\n        <a title=\"松花皮蛋\" href=\"https://www.douban.com/subject/10754632/\"><img alt=\"松花皮蛋\" class=\"climg\" src=\"https://img1.doubanio.com/mpic/s10174848.jpg\" width=\"80\"></a>\\n    </li>\\n    </ul>\\n    <div class=\"clear\"></div>\\n\\n    </div>\\n\\n\\n\\n\\n\\n    </div>\\n\\n            \\n    <div class=\" \" id=\"apps\">\\n    \\n\\n\\n\\n\\n\\n\\n    </div>\\n\\n            \\n    <div class=\" \" id=\"book\">\\n    \\n\\n\\n\\n\\n\\n\\n\\n\\n\\n\\n\\n    \\n    <h2>\\n        佛小FoChaos的书\\n            &nbsp;·&nbsp;·&nbsp;·&nbsp;·&nbsp;·&nbsp;·\\n            <span class=\"pl\">&nbsp;(\\n                \\n                <a href=\"https://book.douban.com/people/crashmyshadow/do\" target=\"_blank\">44本在读</a>&nbsp;·&nbsp;<a href=\"https://book.douban.com/people/crashmyshadow/wish\" target=\"_blank\">159本想读</a>&nbsp;·&nbsp;<a href=\"https://book.douban.com/people/crashmyshadow/collect\" target=\"_blank\">33本读过</a>\\n                ) </span>\\n    </h2>\\n\\n\\n    \\n    \\n            <div class=\"obssin\">\\n                <div class=\"substatus\">在读</div>\\n                <ul><li class=\"aob\"><a href=\"https://book.douban.com/subject/4051540/\" title=\"人工宝石学\" target=\"_blank\"><img src=\"https://img1.doubanio.com/spic/s6084659.jpg\" class=\"climg\" alt=\"人工宝石学\"></a></li>\\n            <li class=\"aob\"><a href=\"https://book.douban.com/subject/3519874/\" title=\"英国珠宝首饰制作基础教程\" target=\"_blank\"><img src=\"https://img3.doubanio.com/spic/s6767574.jpg\" class=\"climg\" alt=\"英国珠宝首饰制作基础教程\"></a></li>\\n            <li class=\"aob\"><a href=\"https://book.douban.com/subject/1282142/\" title=\"系统宝石学\" target=\"_blank\"><img src=\"https://img3.doubanio.com/spic/s1288882.jpg\" class=\"climg\" alt=\"系统宝石学\"></a></li>\\n            <li class=\"aob\"><a href=\"https://book.douban.com/subject/1581190/\" title=\"宝石鉴定法\" target=\"_blank\"><img src=\"https://img1.doubanio.com/spic/s3389079.jpg\" class=\"climg\" alt=\"宝石鉴定法\"></a></li>\\n            <li class=\"aob\"><a href=\"https://book.douban.com/subject/7057626/\" title=\"谁在网络中呼风唤雨\" target=\"_blank\"><img src=\"https://img3.doubanio.com/spic/s7653720.jpg\" class=\"climg\" alt=\"谁在网络中呼风唤雨\"></a></li>\\n            </ul>\\n            <div class=\"clear\"></div></div>\\n        \\n    \\n            <div class=\"obssin\">\\n                <div class=\"substatus\">想读</div>\\n                <ul><li class=\"aob\"><a href=\"https://book.douban.com/subject/2033081/\" title=\"身份的焦虑\\n\\nStatus Anxiety\" target=\"_blank\"><img src=\"https://img3.doubanio.com/spic/s2566102.jpg\" class=\"climg\" alt=\"身份的焦虑\"></a></li>\\n            <li class=\"aob\"><a href=\"https://book.douban.com/subject/3658085/\" title=\"幸福的建筑\\n\\nThe Architecture of Happiness\" target=\"_blank\"><img src=\"https://img3.doubanio.com/spic/s3750253.jpg\" class=\"climg\" alt=\"幸福的建筑\"></a></li>\\n            <li class=\"aob\"><a href=\"https://book.douban.com/subject/4772148/\" title=\"工作！工作！\\n\\nThe Pleasures and Sorrows of Work\" target=\"_blank\"><img src=\"https://img3.doubanio.com/spic/s4293073.jpg\" class=\"climg\" alt=\"工作！工作！\"></a></li>\\n            <li class=\"aob\"><a href=\"https://book.douban.com/subject/2053989/\" title=\"幸福建築\" target=\"_blank\"><img src=\"https://img3.doubanio.com/spic/s2372253.jpg\" class=\"climg\" alt=\"幸福建築\"></a></li>\\n            <li class=\"aob\"><a href=\"https://book.douban.com/subject/25900802/\" title=\"我在底层的生活\\n\\nNickel and Dimed : Undercover in Low-wage USA\" target=\"_blank\"><img src=\"https://img3.doubanio.com/spic/s27297823.jpg\" class=\"climg\" alt=\"我在底层的生活\"></a></li>\\n            </ul>\\n            <div class=\"clear\"></div></div>\\n        \\n    \\n    \\n        <p class=\"pl\"><a href=\"https://book.douban.com/magazine/list/crashmyshadow/\" target=\"_blank\">&gt; 浏览佛小FoChaos看的杂志(5)</a></p>\\n\\n\\n    </div>\\n\\n            \\n    <div class=\" \" id=\"movie\">\\n    \\n\\n\\n\\n\\n\\n\\n\\n\\n\\n    \\n    <h2>\\n        佛小FoChaos的电影\\n            &nbsp;·&nbsp;·&nbsp;·&nbsp;·&nbsp;·&nbsp;·\\n            <span class=\"pl\">&nbsp;(\\n                \\n                <a href=\"https://movie.douban.com/people/crashmyshadow/do\" target=\"_blank\">3部在看</a>&nbsp;·&nbsp;<a href=\"https://movie.douban.com/people/crashmyshadow/wish\" target=\"_blank\">737部想看</a>&nbsp;·&nbsp;<a href=\"https://movie.douban.com/people/crashmyshadow/collect\" target=\"_blank\">516部看过</a>\\n                ) </span>\\n    </h2>\\n\\n\\n    \\n            <div class=\"obssin\">\\n                <div class=\"substatus\">想看</div>\\n                \\n    <ul>\\n            <li class=\"aob\">\\n                <a href=\"https://movie.douban.com/subject/10434591/\" title=\"宇宙的构造\\n\\n宇宙的构造\" target=\"_blank\">\\n                    <img src=\"https://img3.doubanio.com/view/movie_poster_cover/ipst/public/p2387814770.jpg\" class=\"climg\" alt=\"宇宙的构造\">\\n                </a>\\n            </li>\\n            <li class=\"aob\">\\n                <a href=\"https://movie.douban.com/subject/2144242/\" title=\"科洛弗档案\\n\\n科洛弗档案 / 末世凶煞(港)\" target=\"_blank\">\\n                    <img src=\"https://img1.doubanio.com/view/movie_poster_cover/ipst/public/p1334135449.jpg\" class=\"climg\" alt=\"科洛弗档案\">\\n                </a>\\n            </li>\\n            <li class=\"aob\">\\n                <a href=\"https://movie.douban.com/subject/25706773/\" title=\"硬核亨利\\n\\n硬核亨利 / 爆机特攻(港)\" target=\"_blank\">\\n                    <img src=\"https://img1.doubanio.com/view/movie_poster_cover/ipst/public/p2317785167.jpg\" class=\"climg\" alt=\"硬核亨利\">\\n                </a>\\n            </li>\\n            <li class=\"aob\">\\n                <a href=\"https://movie.douban.com/subject/1301869/\" title=\"禁忌的女人\\n\\n禁忌的女人 / The Forbidden Woman\" target=\"_blank\">\\n                    <img src=\"https://img1.doubanio.com/spic/s3788688.jpg\" class=\"climg\" alt=\"禁忌的女人\">\\n                </a>\\n            </li>\\n            <li class=\"aob\">\\n                <a href=\"https://movie.douban.com/subject/25905034/\" title=\"大卫·贝克汉姆：探索未知之境\\n\\n大卫·贝克汉姆：探索未知之境 / 大卫贝克汉姆：探索未知世界\" target=\"_blank\">\\n                    <img src=\"https://img3.doubanio.com/view/movie_poster_cover/ipst/public/p2191301171.jpg\" class=\"climg\" alt=\"大卫·贝克汉姆：探索未知之境\">\\n                </a>\\n            </li>\\n    </ul>\\n\\n            <div class=\"clear\"></div></div>\\n    \\n            <div class=\"obssin\">\\n                <div class=\"substatus\">看过</div>\\n                \\n    <ul>\\n            <li class=\"aob\">\\n                <a href=\"https://movie.douban.com/subject/3026572/\" title=\"世界尽头\\n\\n世界尽头 / 世界终点\" target=\"_blank\">\\n                    <img src=\"https://img3.doubanio.com/view/movie_poster_cover/ipst/public/p1979763511.jpg\" class=\"climg\" alt=\"世界尽头\">\\n                </a>\\n            </li>\\n            <li class=\"aob\">\\n                <a href=\"https://movie.douban.com/subject/5908477/\" title=\"鸿门宴传奇\\n\\n鸿门宴\" target=\"_blank\">\\n                    <img src=\"https://img3.doubanio.com/view/movie_poster_cover/ipst/public/p1293056226.jpg\" class=\"climg\" alt=\"鸿门宴传奇\">\\n                </a>\\n            </li>\\n            <li class=\"aob\">\\n                <a href=\"https://movie.douban.com/subject/1307756/\" title=\"异域\\n\\n异域 / A Home Too Far\" target=\"_blank\">\\n                    <img src=\"https://img3.doubanio.com/view/movie_poster_cover/ipst/public/p1216670455.jpg\" class=\"climg\" alt=\"异域\">\\n                </a>\\n            </li>\\n            <li class=\"aob\">\\n                <a href=\"https://movie.douban.com/subject/10605978/\" title=\"私人订制\\n\\n贵族\" target=\"_blank\">\\n                    <img src=\"https://img3.doubanio.com/view/movie_poster_cover/ipst/public/p2159261731.jpg\" class=\"climg\" alt=\"私人订制\">\\n                </a>\\n            </li>\\n            <li class=\"aob\">\\n                <a href=\"https://movie.douban.com/subject/1298761/\" title=\"新仙鹤神针\\n\\n新仙鹤神针 / The Magic Crane\" target=\"_blank\">\\n                    <img src=\"https://img3.doubanio.com/view/movie_poster_cover/ipst/public/p2250831862.jpg\" class=\"climg\" alt=\"新仙鹤神针\">\\n                </a>\\n            </li>\\n    </ul>\\n\\n            <div class=\"clear\"></div></div>\\n\\n    </div>\\n\\n            \\n    <div class=\" \" id=\"recs\">\\n    \\n\\n\\n\\n\\n\\n\\n    </div>\\n\\n            \\n    <div class=\" \" id=\"like\">\\n    \\n\\n\\n\\n\\n\\n\\n    \\n    <h2>\\n            <img src=\"https://img3.doubanio.com/pics/red-heart.gif\" width=\"13\" height=\"13\">\\n        佛小FoChaos喜欢\\n            &nbsp;·&nbsp;·&nbsp;·&nbsp;·&nbsp;·&nbsp;·\\n            <span class=\"pl\">&nbsp;(\\n                \\n                    <a href=\"https://www.douban.com/people/crashmyshadow/likes\" target=\"_self\">全部</a>\\n                ) </span>\\n    </h2>\\n\\n\\n    <ul class=\"bs\">\\n       \\n            <li>\\n             <span class=\"time\">2015年11月25日 19:36</span>\\n             <a href=\"https://www.douban.com/photos/album/128030063/\" target=\"_self\">agete阿卡朵</a>\\n            </li>\\n       \\n            <li>\\n             <span class=\"time\">2015年3月24日 21:0</span>\\n             <a href=\"https://www.douban.com/photos/album/83185689/\" target=\"_self\">换钱（交易基本在微信gemstory平台进行）</a>\\n            </li>\\n       \\n            <li>\\n             <span class=\"time\">2014年4月2日 19:53</span>\\n             <a href=\"https://www.douban.com/photos/album/39841741/\" target=\"_self\">关之琳·眼波流转</a>\\n            </li>\\n       \\n            <li>\\n             <span class=\"time\">2014年3月18日 14:51</span>\\n             <a href=\"https://www.douban.com/photos/album/62667343/\" target=\"_self\">  迷   鹿  </a>\\n            </li>\\n       \\n            <li>\\n             <span class=\"time\">2014年3月9日 1:58</span>\\n             <a href=\"https://www.douban.com/photos/album/45642119/\" target=\"_self\">德澤森特的午夜沙龍</a>\\n            </li>\\n    </ul>\\n    <div class=\"clear\"></div>\\n\\n    </div>\\n\\n            \\n    <div class=\" \" id=\"review\">\\n    \\n\\n\\n\\n\\n\\n\\n\\n\\n\\n\\n\\n\\n\\n\\n\\n\\n    </div>\\n\\n            \\n    <div class=\" \" id=\"minisite\">\\n    \\n\\n\\n\\n\\n\\n\\n\\n        \\n        \\n    <h2>\\n        佛小FoChaos关注的小站\\n            &nbsp;·&nbsp;·&nbsp;·&nbsp;·&nbsp;·&nbsp;·\\n            <span class=\"pl\">&nbsp;(\\n                \\n                <a href=\"https://www.douban.com/people/crashmyshadow/minisite\" target=\"_self\">全部</a>\\n                ) </span>\\n    </h2>\\n\\n    <div style=\"width:590px\">\\n        <div class=\"photoin\"><a href=\"https://site.douban.com/liuxing/\" class=\"artist_photo nbg\" target=\"_blank\">\\n                    <img src=\"https://img1.doubanio.com/view/site/median/public/4a93526cf434467.jpg\" alt=\"刘星\" title=\"刘星\" class=\"artist_s\" width=\"100px\" height=\"100px\"></a>\\n                    <div class=\"ll\" style=\"text-align:center;width:100px\"><a href=\"https://site.douban.com/liuxing/\" target=\"_blank\">刘星</a></div></div>\\n                    <div class=\"photoin\"><a href=\"https://site.douban.com/108091/\" class=\"artist_photo nbg\" target=\"_blank\">\\n                    <img src=\"https://img3.doubanio.com/view/site/median/public/ff951df37ad29e0.jpg\" alt=\"北京百老汇影院国瑞购物中心店\" title=\"北京百老汇影院国瑞购物中心店\" class=\"artist_s\" width=\"100px\" height=\"100px\"></a>\\n                    <div class=\"ll\" style=\"text-align:center;width:100px\"><a href=\"https://site.douban.com/108091/\" target=\"_blank\">北京百老汇影院国瑞购物中心店</a></div></div>\\n                    <div class=\"photoin\"><a href=\"https://site.douban.com/loccitane/\" class=\"artist_photo nbg\" target=\"_blank\">\\n                    <img src=\"https://img3.doubanio.com/view/site/median/public/59f7d7de6420f60.jpg\" alt=\"欧舒丹\" title=\"欧舒丹\" class=\"artist_s\" width=\"100px\" height=\"100px\"></a>\\n                    <div class=\"ll\" style=\"text-align:center;width:100px\"><a href=\"https://site.douban.com/loccitane/\" target=\"_blank\">欧舒丹</a></div></div>\\n                    <div class=\"photoin\"><a href=\"https://site.douban.com/theone/\" class=\"artist_photo nbg\" target=\"_blank\">\\n                    <img src=\"https://img3.doubanio.com/view/site/median/public/b341aef835288f5.jpg\" alt=\"壹空间·THE ONE CLUB\" title=\"壹空间·THE ONE CLUB\" class=\"artist_s\" width=\"100px\" height=\"100px\"></a>\\n                    <div class=\"ll\" style=\"text-align:center;width:100px\"><a href=\"https://site.douban.com/theone/\" target=\"_blank\">壹空间·THE ONE CLUB</a></div></div>\\n                    <br clear=\"all\">\\n    \\n    </div>\\n\\n    </div>\\n\\n            \\n    <div class=\" \" id=\"online\">\\n    \\n\\n\\n\\n\\n\\n    \\n        \\n    <h2>\\n        佛小FoChaos的线上活动\\n            &nbsp;·&nbsp;·&nbsp;·&nbsp;·&nbsp;·&nbsp;·\\n            <span class=\"pl\">&nbsp;(\\n                \\n                    <a href=\"https://www.douban.com/people/crashmyshadow/online\" target=\"_self\">全部</a>\\n                ) </span>\\n    </h2>\\n\\n\\n        <div class=\"citysmr online_event_index\" style=\"width:570px\"><ul style=\"width:600px\">\\n            \\n\\n\\n<li class=\"cleanfix block\" style=\"width:275px\">\\n<div class=\"title\"> <a href=\"https://www.douban.com/online/11711438/\">100元你在国外都干了啥！【晒照片有奖双人游任你选】</a> </div>\\n<a href=\"https://www.douban.com/online/11711438/\">\\n    <img class=\"actimgs\" src=\"https://img1.doubanio.com/bpic/o644049.jpg\"></a>\\n    <div class=\"evtdesc\">\\n        时间：2014年3月12日 周三 - 2014年5月31日 周六<br>\\n        标签：生活 照片 旅游 摄影 <br>\\n        发起人：<a href=\"https://www.douban.com/people/44562525/\">世界明暗</a> <br>\\n        605人参加 <br>\\n    </div>\\n</li>\\n\\n\\n            \\n\\n\\n<li class=\"cleanfix block\" style=\"width:275px\">\\n<div class=\"title\"> <a href=\"https://www.douban.com/online/11578964/\">简石味线上活动PART I: 送你一枚你长草很久的戒指！</a> </div>\\n<a href=\"https://www.douban.com/online/11578964/\">\\n    <img class=\"actimgs\" src=\"https://img3.doubanio.com/bpic/o633422.jpg\"></a>\\n    <div class=\"evtdesc\">\\n        时间：2013年7月22日 周一 - 2013年10月21日 周一<br>\\n        标签：简石味 戒指 宝石 <br>\\n        发起人：<a href=\"https://www.douban.com/people/crashmyshadow/\">佛小FoChaos</a> <br>\\n        32人参加 <br>\\n    </div>\\n</li>\\n\\n\\n                <div class=\"clear\"></div>\\n        </ul></div>\\n\\n\\n\\n\\n\\n\\n\\n    </div>\\n\\n            \\n    <div class=\" \" id=\"event\">\\n    \\n\\n\\n\\n\\n\\n\\n    \\n    <h2>\\n        佛小FoChaos的同城活动\\n            &nbsp;·&nbsp;·&nbsp;·&nbsp;·&nbsp;·&nbsp;·\\n            <span class=\"pl\">&nbsp;(\\n                \\n                <a href=\"https://www.douban.com/location/people/crashmyshadow/events/attend\" target=\"_blank\">24个参加</a>&nbsp;·&nbsp;<a href=\"https://www.douban.com/location/people/crashmyshadow/events/wish\" target=\"_blank\">99个感兴趣</a>\\n                ) </span>\\n    </h2>\\n\\n        \\n<div class=\"block1\" style=\"margin-bottom:0\">\\n  <div class=\"content\">\\n    <ul class=\"clearbox\">\\n          \\n\\n<li class=\"block clearfix\">\\n  <div class=\"title\">\\n    <a href=\"https://www.douban.com/event/20985642/\" onclick=\"moreurl(this, {from:\\'\\'})\" target=\"_blank\">3D打印的未来</a>\\n  </div>\\n  <a href=\"https://www.douban.com/event/20985642/\" onclick=\"moreurl(this, {from:\\'\\'})\" target=\"_blank\">\\n    <img src=\"https://img3.doubanio.com/view/event_poster/sicon/public/0075106df627a00.jpg\" class=\"actimgs\">\\n  </a>\\n  <div class=\"evtdesc\">\\n    2014年03月08日 周六 15:00-17:00<br>\\n    北京 海淀区 丹棱街16号海...<br>\\n    157人关注<br>\\n  </div>\\n</li>\\n\\n          \\n\\n<li class=\"block clearfix\">\\n  <div class=\"title\">\\n    <a href=\"https://www.douban.com/event/20880506/\" onclick=\"moreurl(this, {from:\\'\\'})\" target=\"_blank\">Dark Garden 新民谣音乐聚会</a>\\n  </div>\\n  <a href=\"https://www.douban.com/event/20880506/\" onclick=\"moreurl(this, {from:\\'\\'})\" target=\"_blank\">\\n    <img src=\"https://img3.doubanio.com/view/event_poster/sicon/public/f984c99b4f6535d.jpg\" class=\"actimgs\">\\n  </a>\\n  <div class=\"evtdesc\">\\n    2014年02月28日 周五 20:30-22:30<br>\\n    北京 朝阳区 双井 麻雀瓦舍<br>\\n    155人关注<br>\\n  </div>\\n</li>\\n\\n          <li class=\"clear\"></li>\\n    </ul>\\n  </div>\\n</div>\\n\\n\\n\\n\\n\\n\\n\\n\\n    </div>\\n\\n            \\n    <div class=\" \" id=\"drama\">\\n    \\n\\n\\n\\n\\n\\n\\n\\n\\n    <h2>\\n        佛小FoChaos的舞台剧\\n            &nbsp;·&nbsp;·&nbsp;·&nbsp;·&nbsp;·&nbsp;·\\n            <span class=\"pl\">&nbsp;(\\n                \\n                <a href=\"https://www.douban.com/location/people/crashmyshadow/drama/wish\" target=\"_blank\">2部想看</a>\\n                ) </span>\\n    </h2>\\n\\n\\n\\n  \\n    <div class=\"obssin\" style=\"margin-bottom: 1.5em;\">\\n      <div class=\"substatus\">想看</div>\\n      <ul><li class=\"aob\"><a href=\"https://www.douban.com/location/drama/1510968/\" title=\"台湾怪谭\" target=\"_blank\"><img src=\"https://img1.doubanio.com/view/drama_subject_poster/small/public/ff68802346ec527.jpg\" class=\"climg\" alt=\"台湾怪谭\"></a></li>\\n            <li class=\"aob\"><a href=\"https://www.douban.com/location/drama/1925079/\" title=\"青春版牡丹亭\" target=\"_blank\"><img src=\"https://img3.doubanio.com/view/drama_subject_poster/small/public/fb668601e8c10d6.jpg\" class=\"climg\" alt=\"青春版牡丹亭\"></a></li>\\n            </ul>\\n      <div class=\"clear\"></div>\\n    </div>\\n  \\n  \\n    </div>\\n\\n\\n\\n\\n\\n            \\n    <div class=\" \" id=\"shop\">\\n    \\n\\n\\n\\n\\n\\n\\n\\n\\n\\n\\n    </div>\\n\\n\\n\\n\\n        </div>\\n        <div class=\"aside\">\\n                \\n\\n\\n    \\n\\n\\n\\n\\n\\n\\n\\n\\n<div id=\"profile\">\\n\\n\\n<div class=\"infobox\">\\n    <div class=\"ex1\"><span></span></div>\\n    <div class=\"bd\">\\n\\n<div class=\"basic-info\">\\n\\n<img src=\"https://img1.doubanio.com/icon/ul2500900-9.jpg\" class=\"userface\" alt=\"\">\\n\\n<div class=\"user-info\">\\n\\n常居:&nbsp;<a href=\"https://beijing.douban.com/\">北京</a><br>\\n\\n<div class=\"pl\">crashmyshadow <br> 2008-05-20加入</div>\\n\\n\\n\\n</div>\\n</div>\\n\\n\\n\\n\\n\\n\\n\\n\\n\\n\\n\\n\\n\\n\\n\\n\\n\\n\\n\\n\\n\\n<div class=\"user-opt\">\\n    <a href=\"#\" class=\"a-btn-add mr10 j a_show_login\">关注此人</a>\\n    <a class=\"a-btn mr5 j a_show_login\" rel=\"nofollow\" href=\"https://www.douban.com/accounts/register?reason=send-doumail\">发豆邮</a>\\n\\n</div>\\n\\n\\n\\n\\n<div class=\"sep-line\"></div>\\n<div class=\"user-intro\">\\n\\n\\n    \\n    <div id=\"edit_intro\" class=\"j edtext pl\">\\n        <span id=\"intro_display\">买石头请加我微信 gemstory 不是公众号哦<br><br>blog地址： <a href=\"https://www.douban.com/artist/heqiming/\" target=\"_blank\">www.douban.com/artist/heqiming/</a><br><br>淘宝店：  <a href=\"https://www.douban.com/link2?url=http%3A%2F%2Fgemstory.taobao.com%2F&amp;vendor=from_people_intro&amp;type=redir&amp;link2key=4adfbb11e2\" target=\"_blank\">http://gemstory.taobao.com/</a><br><br>微博：<a href=\"https://www.douban.com/link2?url=http%3A%2F%2Fweibo.cn%2F3270610773%2Fprofile&amp;vendor=from_people_intro&amp;type=redir&amp;link2key=4adfbb11e2\" target=\"_blank\">http://weibo.cn/3270610773/profile</a><br><br>parfait,c\\'est comme ce que tu crois.<br><br>ennui,il n\\'y a aucune chose que tu veux.<br><br> </span>\\n\\n        <form style=\"display: none;\" action=\"/j/people/crashmyshadow/edit_intro\" name=\"edit_intro\" mothod=\"post\">\\n            <textarea name=\"intro\" style=\"overflow: hidden;\">买石头请加我微信 gemstory 不是公众号哦\\n\\nblog地址： www.douban.com/artist/heqiming/\\n\\n淘宝店：  http://gemstory.taobao.com/\\n\\n微博：http://weibo.cn/3270610773/profile\\n\\nparfait,c\\'est comme ce que tu crois.\\n\\nennui,il n\\'y a aucune chose que tu veux.\\n\\n </textarea><br>\\n            <input id=\"intro_submit\" class=\"submit\" type=\"submit\" value=\"保存\">\\n            <input id=\"intro_cancel\" class=\"cancel\" type=\"button\" value=\"取消\">\\n        <div style=\"position: absolute; display: none; word-wrap: break-word; font-weight: normal; width: 282px; font-family: Arial; line-height: normal; font-size: 12px; padding: 3px;\">买石头请加我微信&nbsp;gemstory&nbsp;不是公众号哦<br><br>blog地址：&nbsp;www.douban.com/artist/heqiming/<br><br>淘宝店：&nbsp;&nbsp;http://gemstory.taobao.com/<br><br>微博：http://weibo.cn/3270610773/profile<br><br>parfait,c\\'est&nbsp;comme&nbsp;ce&nbsp;que&nbsp;tu&nbsp;crois.<br><br>ennui,il&nbsp;n\\'y&nbsp;a&nbsp;aucune&nbsp;chose&nbsp;que&nbsp;tu&nbsp;veux.<br><br>&nbsp;&nbsp;</div></form>\\n\\n        <span id=\"intro_error\" class=\"attn\" style=\"display: none;\"></span>\\n    </div>\\n\\n</div>\\n\\n</div>\\n    <div class=\"ex2\"><span></span></div>\\n</div>\\n\\n\\n</div>\\n\\n\\n\\n\\n<script src=\"https://img3.doubanio.com/f/shire/d0eb00d8781aeb03e0351d1647d7fc58e0a6ef53/js/jquery_plugin/jquery.elastic.js\"></script>\\n\\n\\n    \\n\\n\\n\\n\\n\\n\\n\\n\\n  <div class=\"clear\"></div>\\n\\n\\n\\n    \\n\\n    <div id=\"statuses\">\\n      <div class=\"stream-items\">\\n        \\n        \\n    <h2>\\n        佛小FoChaos的广播\\n            &nbsp;·&nbsp;·&nbsp;·&nbsp;·&nbsp;·&nbsp;·\\n            <span class=\"pl\">&nbsp;(\\n                \\n                    <a href=\"/people/crashmyshadow/statuses\" target=\"_self\">全部</a>\\n                ) </span>\\n    </h2>\\n\\n      </div>\\n    </div>\\n\\n\\n    \\n    \\n\\n\\n\\n\\n\\n\\n\\n<div id=\"friend\">\\n\\n    <h2>\\n        佛小FoChaos的关注\\n            &nbsp;·&nbsp;·&nbsp;·&nbsp;·&nbsp;·&nbsp;·\\n            <span class=\"pl\">&nbsp;(\\n                \\n                <a href=\"https://www.douban.com/people/crashmyshadow/contacts\" target=\"_self\">成员645</a>\\n                ) </span>\\n    </h2>\\n\\n<dl class=\"obu\"><dt><a href=\"https://www.douban.com/people/GIFEncyclopedi/\" class=\"nbg\"><img src=\"https://img1.doubanio.com/icon/u81387373-49.jpg\" class=\"m_sub_img\" alt=\"赵金象\"></a></dt>\\n                    <dd><a href=\"https://www.douban.com/people/GIFEncyclopedi/\">赵金象</a></dd></dl><dl class=\"obu\"><dt><a href=\"https://www.douban.com/people/124348568/\" class=\"nbg\"><img src=\"https://img1.doubanio.com/icon/user_normal.jpg\" class=\"m_sub_img\" alt=\"心疼不能自己\"></a></dt>\\n                    <dd><a href=\"https://www.douban.com/people/124348568/\">心疼不能自己</a></dd></dl><dl class=\"obu\"><dt><a href=\"https://www.douban.com/people/sifenlv/\" class=\"nbg\"><img src=\"https://img3.doubanio.com/icon/u42983669-5.jpg\" class=\"m_sub_img\" alt=\"FENG+LIN\"></a></dt>\\n                    <dd><a href=\"https://www.douban.com/people/sifenlv/\">FENG+LIN</a></dd></dl><dl class=\"obu\"><dt><a href=\"https://www.douban.com/people/liuang/\" class=\"nbg\"><img src=\"https://img3.doubanio.com/icon/u2694833-15.jpg\" class=\"m_sub_img\" alt=\"昂昂千里\"></a></dt>\\n                    <dd><a href=\"https://www.douban.com/people/liuang/\">昂昂千里</a></dd></dl><dl class=\"obu\"><dt><a href=\"https://www.douban.com/people/68449721/\" class=\"nbg\"><img src=\"https://img3.doubanio.com/icon/u68449721-3.jpg\" class=\"m_sub_img\" alt=\"里氏911\"></a></dt>\\n                    <dd><a href=\"https://www.douban.com/people/68449721/\">里氏911</a></dd></dl><dl class=\"obu\"><dt><a href=\"https://www.douban.com/people/79178130/\" class=\"nbg\"><img src=\"https://img3.doubanio.com/icon/u79178130-5.jpg\" class=\"m_sub_img\" alt=\"scarlett_xzh\"></a></dt>\\n                    <dd><a href=\"https://www.douban.com/people/79178130/\">scarlett_xzh</a></dd></dl><dl class=\"obu\"><dt><a href=\"https://www.douban.com/people/PROCHINA/\" class=\"nbg\"><img src=\"https://img1.doubanio.com/icon/u48271444-29.jpg\" class=\"m_sub_img\" alt=\"扬卡洛夫milan\"></a></dt>\\n                    <dd><a href=\"https://www.douban.com/people/PROCHINA/\">扬卡洛夫milan</a></dd></dl><dl class=\"obu\"><dt><a href=\"https://www.douban.com/people/BUFUNN/\" class=\"nbg\"><img src=\"https://img3.doubanio.com/icon/u43761816-2.jpg\" class=\"m_sub_img\" alt=\"美丽随心缝纫\"></a></dt>\\n                    <dd><a href=\"https://www.douban.com/people/BUFUNN/\">美丽随心缝纫</a></dd></dl><br clear=\"all\">\\n    \\n</div>\\n\\n\\n    <p class=\"rev-link\"><a href=\"https://www.douban.com/people/crashmyshadow/rev_contacts\">&gt;&nbsp;佛小FoChaos被1089人关注</a></p>\\n\\n    \\n\\n    \\n\\n\\n            \\n    <div class=\" \" id=\"doulist\">\\n    \\n\\n\\n\\n\\n\\n\\n\\n\\n\\n        \\n    <h2>\\n        佛小FoChaos的豆列\\n            &nbsp;·&nbsp;·&nbsp;·&nbsp;·&nbsp;·&nbsp;·\\n            <span class=\"pl\">&nbsp;(\\n                \\n                    <a href=\"https://www.douban.com/people/crashmyshadow/doulists/\" target=\"_self\">全部20</a>\\n                ) </span>\\n    </h2>\\n\\n        <ul class=\"doulist-list\">\\n            <li>\\n                <a href=\"https://www.douban.com/doulist/32002658/\">换钱（交易基本在微信gemstory平台进行） (90)</a>\\n            </li>\\n            <li>\\n                <a href=\"https://www.douban.com/doulist/32084413/\">已换钱，同款可定制。 (118)</a>\\n            </li>\\n            <li>\\n                <a href=\"https://www.douban.com/doulist/32132476/\">我也有买家秀鸟 (30)</a>\\n            </li>\\n            <li>\\n                <a href=\"https://www.douban.com/doulist/22898416/\">佛小FoChaos的日记 (95)</a>\\n            </li>\\n            <li>\\n                <a href=\"https://www.douban.com/doulist/27794953/\">佛小FoChaos相册里的东西 (20)</a>\\n            </li>\\n        </ul>\\n    <div class=\"clear\"></div>\\n\\n\\n\\n\\n\\n    </div>\\n\\n            \\n    <div class=\" \" id=\"group\">\\n    \\n\\n\\n\\n\\n\\n\\n        \\n    <h2>\\n        佛小FoChaos常去的小组(219)\\n            &nbsp;·&nbsp;·&nbsp;·&nbsp;·&nbsp;·&nbsp;·\\n            <span class=\"pl\">&nbsp;(\\n                \\n                    <a href=\"https://www.douban.com/group/people/crashmyshadow/joins\" target=\"_blank\">全部</a>\\n                ) </span>\\n    </h2>\\n\\n    \\n\\n\\n    \\n    <dl class=\"ob \">\\n        <dt><a href=\"https://www.douban.com/group/minimalists/\" target=\"_blank\"><img src=\"https://img3.doubanio.com/icon/g385172-2.jpg\" class=\"m_sub_img\" alt=\"极简生活\"></a></dt>\\n    \\n    <dd><a href=\"https://www.douban.com/group/minimalists/\" class=\"\" target=\"_blank\">极简生活</a> <span>(69775)</span>\\n    </dd>\\n    </dl>\\n    \\n    <dl class=\"ob \">\\n        <dt><a href=\"https://www.douban.com/group/insidestory/\" target=\"_blank\"><img src=\"https://img3.doubanio.com/icon/g195383-15.jpg\" class=\"m_sub_img\" alt=\"掀起你的内幕来\"></a></dt>\\n    \\n    <dd><a href=\"https://www.douban.com/group/insidestory/\" class=\"\" target=\"_blank\">掀起你的内幕来</a> <span>(632222)</span>\\n    </dd>\\n    </dl>\\n    \\n    <dl class=\"ob \">\\n        <dt><a href=\"https://www.douban.com/group/210756/\" target=\"_blank\"><img src=\"https://img1.doubanio.com/icon/g210756-9.jpg\" class=\"m_sub_img\" alt=\"珠宝鉴定爱好者\"></a></dt>\\n    \\n    <dd><a href=\"https://www.douban.com/group/210756/\" class=\"\" target=\"_blank\">珠宝鉴定爱好者</a> <span>(18611)</span>\\n    </dd>\\n    </dl>\\n    \\n    <dl class=\"ob \">\\n        <dt><a href=\"https://www.douban.com/group/yushi/\" target=\"_blank\"><img src=\"https://img1.doubanio.com/icon/g78949-9.jpg\" class=\"m_sub_img\" alt=\"我们喜欢玉石\"></a></dt>\\n    \\n    <dd><a href=\"https://www.douban.com/group/yushi/\" class=\"\" target=\"_blank\">我们喜欢玉石</a> <span>(17393)</span>\\n    </dd>\\n    </dl>\\n    \\n    <dl class=\"ob \">\\n        <dt><a href=\"https://www.douban.com/group/zhuangb/\" target=\"_blank\"><img src=\"https://img1.doubanio.com/icon/g17947-8.jpg\" class=\"m_sub_img\" alt=\"文艺青年装逼会\"></a></dt>\\n    \\n    <dd><a href=\"https://www.douban.com/group/zhuangb/\" class=\"\" target=\"_blank\">文艺青年装逼会</a> <span>(633726)</span>\\n    </dd>\\n    </dl>\\n    \\n    <dl class=\"ob \">\\n        <dt><a href=\"https://www.douban.com/group/190192/\" target=\"_blank\"><img src=\"https://img3.doubanio.com/icon/g190192-5.jpg\" class=\"m_sub_img\" alt=\"孤品首饰流通站\"></a></dt>\\n    \\n    <dd><a href=\"https://www.douban.com/group/190192/\" class=\"\" target=\"_blank\">孤品首饰流通站</a> <span>(3806)</span>\\n    </dd>\\n    </dl>\\n    \\n    <dl class=\"ob \">\\n        <dt><a href=\"https://www.douban.com/group/zhuang/\" target=\"_blank\"><img src=\"https://img3.doubanio.com/icon/g87264-2.jpg\" class=\"m_sub_img\" alt=\"装逼学\"></a></dt>\\n    \\n    <dd><a href=\"https://www.douban.com/group/zhuang/\" class=\"\" target=\"_blank\">装逼学</a> <span>(9054)</span>\\n    </dd>\\n    </dl>\\n    \\n    <dl class=\"ob \">\\n        <dt><a href=\"https://www.douban.com/group/238359/\" target=\"_blank\"><img src=\"https://img3.doubanio.com/icon/g238359-1.jpg\" class=\"m_sub_img\" alt=\"银镯子团购转卖\"></a></dt>\\n    \\n    <dd><a href=\"https://www.douban.com/group/238359/\" class=\"\" target=\"_blank\">银镯子团购转卖</a> <span>(3868)</span>\\n    </dd>\\n    </dl>\\n <div class=\"clear\"></div>\\n\\n    </div>\\n\\n            \\n    <div class=\" \" id=\"board\">\\n    \\n\\n\\n\\n\\n\\n\\n    \\n    <h2>\\n        留言板\\n            &nbsp;·&nbsp;·&nbsp;·&nbsp;·&nbsp;·&nbsp;·\\n            <span class=\"pl\">&nbsp;(\\n                \\n                    <a href=\"https://www.douban.com/people/crashmyshadow/board\" target=\"_self\">全部</a>\\n                ) </span>\\n    </h2>\\n\\n\\n    \\n\\n\\n\\n<ul class=\"mbt\" id=\"comments\">\\n\\n<li class=\"mbtl\"><a href=\"https://www.douban.com/people/crashmyshadow/\"><img src=\"https://img1.doubanio.com/icon/u2500900-9.jpg\" alt=\"佛小FoChaos\"></a></li>\\n<li class=\"mbtrdot comment-item\" data-cid=\"38403605\"><a href=\"https://www.douban.com/people/crashmyshadow/\">佛小FoChaos</a>: &nbsp;\\n<a href=\"https://www.douban.com/link2/?url=http%3A%2F%2Fv.youku.com%2Fv_show%2Fid_XNDQ5MzAxNTcy.html\" target=\"_blank\" rel=\"nofollow\">http://v.youku.com/v<wbr>_show/id_XNDQ5MzAxNT<wbr>cy.html</a> &nbsp; &nbsp; <span class=\"pl\">2013-06-01 15:32</span>\\n    <br>\\n    <div class=\"gact post-action content\">\\n    </div>\\n    </li>\\n\\n<li class=\"mbtl\"><a href=\"https://www.douban.com/people/62186217/\"><img src=\"https://img1.doubanio.com/icon/user_normal.jpg\" alt=\"[已注销]\"></a></li>\\n<li class=\"mbtrdot comment-item\" data-cid=\"37633895\"><a href=\"https://www.douban.com/people/62186217/\">[已注销]</a>: &nbsp;\\nhey，新年快乐！ &nbsp; &nbsp; <span class=\"pl\">2013-02-10 00:26</span>\\n    <br>\\n    <div class=\"gact post-action content\">\\n    </div>\\n    </li>\\n\\n<li class=\"mbtl\"><a href=\"https://www.douban.com/people/xuanhu/\"><img src=\"https://img1.doubanio.com/icon/u4210257-49.jpg\" alt=\"夜骐\"></a></li>\\n<li class=\"mbtrdot comment-item\" data-cid=\"37310425\"><a href=\"https://www.douban.com/people/xuanhu/\">夜骐</a>: &nbsp;\\n<a href=\"https://www.douban.com/link2/?url=http%3A%2F%2Fweibo.com%2Fu%2F2815598390\" target=\"_blank\" rel=\"nofollow\">http://weibo.com/u/2<wbr>815598390</a> &nbsp; &nbsp; <span class=\"pl\">2013-01-05 22:26</span>\\n    <br>\\n    <div class=\"gact post-action content\">\\n    </div>\\n    </li>\\n\\n<li class=\"mbtl\"><a href=\"https://www.douban.com/people/xuanhu/\"><img src=\"https://img1.doubanio.com/icon/u4210257-49.jpg\" alt=\"夜骐\"></a></li>\\n<li class=\"mbtrdot comment-item\" data-cid=\"37310416\"><a href=\"https://www.douban.com/people/xuanhu/\">夜骐</a>: &nbsp;\\n<a href=\"https://www.douban.com/link2/?url=http%3A%2F%2Fweibo.com%2Feraserworkshop\" target=\"_blank\" rel=\"nofollow\">http://weibo.com/era<wbr>serworkshop</a> &nbsp; &nbsp; <span class=\"pl\">2013-01-05 22:26</span>\\n    <br>\\n    <div class=\"gact post-action content\">\\n    </div>\\n    </li>\\n\\n<li class=\"mbtl\"><a href=\"https://www.douban.com/people/xuanhu/\"><img src=\"https://img1.doubanio.com/icon/u4210257-49.jpg\" alt=\"夜骐\"></a></li>\\n<li class=\"mbtrdot comment-item\" data-cid=\"37310406\"><a href=\"https://www.douban.com/people/xuanhu/\">夜骐</a>: &nbsp;\\n这位学的首饰设计：<a href=\"https://www.douban.com/link2/?url=http%3A%2F%2Fwww.douban.com%2Fpeople%2Flanma90%2F\">http://www.douban.co<wbr>m/people/lanma90/</a> &nbsp; &nbsp; <span class=\"pl\">2013-01-05 22:25</span>\\n    <br>\\n    <div class=\"gact post-action content\">\\n    </div>\\n    </li>\\n</ul>\\n\\n\\n\\n\\n    </div>\\n\\n\\n    \\n\\n\\n\\n\\n\\n        <p class=\"pl2\">&gt; <a href=\"https://www.douban.com/people/crashmyshadow/subjects\">佛小FoChaos添加的条目</a></p>\\n\\n\\n\\n    <div class=\"clear\"></div><p class=\"pl\">本页永久链接: <a href=\"https://www.douban.com/people/crashmyshadow/\">http://www.douban.com/people/crashmyshadow/</a></p>\\n\\n        \\n<p class=\"pl\">订阅佛小FoChaos的收藏: <br><span class=\"feed\">\\n    <a href=\"https://www.douban.com/feed/people/crashmyshadow/interests\"> feed: rss 2.0</a></span></p>\\n\\n\\n\\n        </div>\\n        <div class=\"extra\">\\n            \\n\\n<div class=\"report\" id=\"page-report\"><a rel=\"nofollow\" href=\"javascript:void(0)\">举报不良信息</a></div>\\n<script type=\"text/javascript\" src=\"https://img3.doubanio.com/f/shire/36a62baa48f1971dbb14eab12c12f4e1b0d940ab/js/report_dialog.js\"></script>\\n<link rel=\"stylesheet\" type=\"text/css\" href=\"https://img3.doubanio.com/f/shire/55b64317192d6f00c03c9ff3e397fe02bfa4437b/css/report_dialog.css\">\\n\\n<script>\\n       Do = (typeof Do === \\'undefined\\')? $ : Do;\\n       Do(function(){\\n        $(\"#page-report\").delegate(\"a\", \\'click\\', function(e){\\n            var auditUrl = \"https://www.douban.com/misc/audit_report?url=\";\\n            var url = \"https://www.douban.com/people/crashmyshadow/\";\\n            generate_report_dialog({report_url: url});\\n        })\\n    });\\n</script>\\n\\n\\n        </div>\\n    </div>\\n</div>\\n\\n        \\n<div id=\"footer\">\\n    \\n<span id=\"icp\" class=\"fleft gray-link\">\\n    © 2005－2017 douban.com, all rights reserved 北京豆网科技有限公司\\n</span>\\n\\n<a href=\"https://www.douban.com/hnypt/variformcyst.py\" style=\"display: none;\"></a>\\n\\n<span class=\"fright\">\\n    <a href=\"https://www.douban.com/about\">关于豆瓣</a>\\n    · <a href=\"https://www.douban.com/jobs\">在豆瓣工作</a>\\n    · <a href=\"https://www.douban.com/about?topic=contactus\">联系我们</a>\\n    · <a href=\"https://www.douban.com/about?policy=disclaimer\">免责声明</a>\\n    \\n    · <a href=\"https://help.douban.com/?app=main\" target=\"_blank\">帮助中心</a>\\n    · <a href=\"https://www.douban.com/doubanapp/\">移动应用</a>\\n    · <a href=\"https://www.douban.com/partner/\">豆瓣广告</a>\\n</span>\\n\\n</div>\\n\\n    </div>\\n    \\n    \\n\\n    <script type=\"text/javascript\" src=\"https://img3.doubanio.com/misc/mixed_static/92d9a93c08e0068.js\"></script>\\n    \\n    \\n    \\n\\n\\n\\n\\n\\n\\n\\n\\n\\n<!-- Google Tag Manager -->\\n<noscript>&lt;iframe src=\"//www.googletagmanager.com/ns.html?id=GTM-5WP579\" height=\"0\" width=\"0\" style=\"display:none;visibility:hidden\"&gt;&lt;/iframe&gt;</noscript>\\n<script>(function(w,d,s,l,i){w[l]=w[l]||[];w[l].push({\\'gtm.start\\':new Date().getTime(),event:\\'gtm.js\\'});var f=d.getElementsByTagName(s)[0],j=d.createElement(s),dl=l!=\\'dataLayer\\'?\\'&l=\\'+l:\\'\\';j.async=true;j.src=\\'//www.googletagmanager.com/gtm.js?id=\\'+i+dl;f.parentNode.insertBefore(j,f);})(window,document,\\'script\\',\\'dataLayer\\',\\'GTM-5WP579\\');</script>\\n<!-- End Google Tag Manager -->\\n\\n\\n<script type=\"text/javascript\">\\nvar _paq = _paq || [];\\n_paq.push([\\'trackPageView\\']);\\n_paq.push([\\'enableLinkTracking\\']);\\n(function() {\\n    var p=((\\'https:\\' == document.location.protocol) ? \\'https\\' : \\'http\\'), u=p+\\'://fundin.douban.com/\\';\\n    _paq.push([\\'setTrackerUrl\\', u+\\'piwik\\']);\\n    _paq.push([\\'setSiteId\\', \\'100001\\']);\\n    var d=document, g=d.createElement(\\'script\\'), s=d.getElementsByTagName(\\'script\\')[0];\\n    g.type=\\'text/javascript\\';\\n    g.defer=true;\\n    g.async=true;\\n    g.src=p+\\'://img3.doubanio.com/dae/fundin/piwik.js\\';\\n    s.parentNode.insertBefore(g,s);\\n})();\\n</script>\\n\\n<script type=\"text/javascript\">\\nvar _gaq = _gaq || [];\\n_gaq.push([\\'_setAccount\\', \\'UA-7019765-1\\']);\\n_gaq.push([\\'_setCampNameKey\\', \\'dcn\\']);\\n_gaq.push([\\'_setCampSourceKey\\', \\'dcs\\']);\\n_gaq.push([\\'_setCampMediumKey\\', \\'dcm\\']);\\n_gaq.push([\\'_setCampTermKey\\', \\'dct\\']);\\n_gaq.push([\\'_setCampContentKey\\', \\'dcc\\']);\\n_gaq.push([\\'_addOrganic\\', \\'baidu\\', \\'word\\']);\\n_gaq.push([\\'_addOrganic\\', \\'soso\\', \\'w\\']);\\n_gaq.push([\\'_addOrganic\\', \\'3721\\', \\'name\\']);\\n_gaq.push([\\'_addOrganic\\', \\'youdao\\', \\'q\\']);\\n_gaq.push([\\'_addOrganic\\', \\'so.360.cn\\', \\'q\\']);\\n_gaq.push([\\'_addOrganic\\', \\'vnet\\', \\'kw\\']);\\n_gaq.push([\\'_addOrganic\\', \\'sogou\\', \\'query\\']);\\n_gaq.push([\\'_addIgnoredOrganic\\', \\'豆瓣\\']);\\n_gaq.push([\\'_addIgnoredOrganic\\', \\'douban\\']);\\n_gaq.push([\\'_addIgnoredOrganic\\', \\'豆瓣网\\']);\\n_gaq.push([\\'_addIgnoredOrganic\\', \\'www.douban.com\\']);\\n_gaq.push([\\'_setDomainName\\', \\'.douban.com\\']);\\n\\n\\n    _gaq.push([\\'_setCustomVar\\', 1, \\'responsive_view_mode\\', \\'desktop\\', 3]);\\n\\n_gaq.push([\\'_trackPageview\\']);\\n_gaq.push([\\'_trackPageLoadTime\\']);\\n\\nwindow._ga_init = function() {\\n    var ga = document.createElement(\\'script\\');\\n    ga.src = (\\'https:\\' == document.location.protocol ? \\'https://ssl\\' : \\'http://www\\') + \\'.google-analytics.com/ga.js\\';\\n    ga.setAttribute(\\'async\\', \\'true\\');\\n    document.documentElement.firstChild.appendChild(ga);\\n};\\nif (window.addEventListener) {\\n    window.addEventListener(\\'load\\', _ga_init, false);\\n} else {\\n    window.attachEvent(\\'onload\\', _ga_init);\\n}\\n</script>\\n\\n\\n\\n\\n\\n    <!-- sindar13d-docker-->\\n\\n  <script>_SPLITTEST=\\'\\'</script>\\n\\n\\n\\n\\n\\n</body></html>'"
      ]
     },
     "execution_count": 175,
     "metadata": {},
     "output_type": "execute_result"
    }
   ],
   "source": [
    "page"
   ]
  },
  {
   "cell_type": "code",
   "execution_count": 177,
   "metadata": {},
   "outputs": [
    {
     "ename": "TypeError",
     "evalue": "'lxml.etree._Element' object is not callable",
     "output_type": "error",
     "traceback": [
      "\u001b[0;31m---------------------------------------------------------------------------\u001b[0m",
      "\u001b[0;31mTypeError\u001b[0m                                 Traceback (most recent call last)",
      "\u001b[0;32m<ipython-input-177-cc87d846c22b>\u001b[0m in \u001b[0;36m<module>\u001b[0;34m()\u001b[0m\n\u001b[0;32m----> 1\u001b[0;31m \u001b[0metree\u001b[0m\u001b[0;34m.\u001b[0m\u001b[0mHTML\u001b[0m\u001b[0;34m(\u001b[0m\u001b[0mpage\u001b[0m\u001b[0;34m)\u001b[0m\u001b[0;34m(\u001b[0m\u001b[0;34m)\u001b[0m\u001b[0;34m\u001b[0m\u001b[0m\n\u001b[0m",
      "\u001b[0;31mTypeError\u001b[0m: 'lxml.etree._Element' object is not callable"
     ]
    }
   ],
   "source": []
  },
  {
   "cell_type": "code",
   "execution_count": null,
   "metadata": {},
   "outputs": [],
   "source": []
  },
  {
   "cell_type": "code",
   "execution_count": null,
   "metadata": {},
   "outputs": [],
   "source": []
  },
  {
   "cell_type": "code",
   "execution_count": 26,
   "metadata": {},
   "outputs": [],
   "source": [
    "members = ({'identifier': u'01001001', 'group_id': \"1L\"}\n",
    "           , {'identifier': u'01001002', 'group_id': \"1L\"}\n",
    "           , {'identifier': u'01001003', 'group_id': \"1L\"}\n",
    "           , {'identifier': u'01001004', 'group_id': \"1L\"}\n",
    "           , {'identifier': u'02002001', 'group_id': \"2L\"}\n",
    "           , {'identifier': u'02002002', 'group_id': \"2L\"}\n",
    "           , {'identifier': u'02002003', 'group_id': \"2L\"}\n",
    "           , {'identifier': u'02002004', 'group_id': \"2L\"}\n",
    "           , {'identifier': u'03003001', 'group_id': \"3L\"}\n",
    "           , {'identifier': u'03003002', 'group_id': \"3L\"}\n",
    "           , {'identifier': u'03003003', 'group_id': \"3L\"}\n",
    "           , {'identifier': u'03003004', 'group_id': \"3L\"}\n",
    "           , {'identifier': u'04004001', 'group_id': \"4L\"}\n",
    "           , {'identifier': u'04004003', 'group_id': \"4L\"}\n",
    "           , {'identifier': u'01005001', 'group_id': \"5L\"}\n",
    "           , {'identifier': u'01005004', 'group_id': \"5L\"})"
   ]
  },
  {
   "cell_type": "code",
   "execution_count": 27,
   "metadata": {},
   "outputs": [
    {
     "name": "stdout",
     "output_type": "stream",
     "text": [
      "1\n",
      "1\n",
      "1\n",
      "1\n",
      "2\n",
      "2\n",
      "2\n",
      "2\n",
      "3\n",
      "3\n",
      "3\n",
      "3\n",
      "4\n",
      "4\n",
      "5\n",
      "5\n"
     ]
    }
   ],
   "source": [
    "type(members)\n",
    "range(groups+1)[1:]\n",
    "for member in members:\n",
    "    print(member['group_id'][:-1])"
   ]
  },
  {
   "cell_type": "code",
   "execution_count": 32,
   "metadata": {},
   "outputs": [
    {
     "data": {
      "text/plain": [
       "{1: [], 2: [], 3: [], 4: [], 5: []}"
      ]
     },
     "execution_count": 32,
     "metadata": {},
     "output_type": "execute_result"
    }
   ],
   "source": [
    "groups = 5\n",
    "group_sort = dict(zip(range(groups+1)[1:], [[]] * groups))\n",
    "group_sort"
   ]
  },
  {
   "cell_type": "code",
   "execution_count": 33,
   "metadata": {},
   "outputs": [],
   "source": [
    "for member in members:\n",
    "    identifiers = group_sort[int(member['group_id'][:-1])]\n",
    "    identifiers.append(member['identifier'])"
   ]
  },
  {
   "cell_type": "code",
   "execution_count": 34,
   "metadata": {},
   "outputs": [
    {
     "data": {
      "text/plain": [
       "['01001001',\n",
       " '01001002',\n",
       " '01001003',\n",
       " '01001004',\n",
       " '02002001',\n",
       " '02002002',\n",
       " '02002003',\n",
       " '02002004',\n",
       " '03003001',\n",
       " '03003002',\n",
       " '03003003',\n",
       " '03003004',\n",
       " '04004001',\n",
       " '04004003',\n",
       " '01005001',\n",
       " '01005004']"
      ]
     },
     "execution_count": 34,
     "metadata": {},
     "output_type": "execute_result"
    }
   ],
   "source": [
    "identifiers"
   ]
  },
  {
   "cell_type": "code",
   "execution_count": null,
   "metadata": {},
   "outputs": [],
   "source": []
  }
 ],
 "metadata": {
  "kernelspec": {
   "display_name": "Python 3",
   "language": "python",
   "name": "python3"
  },
  "language_info": {
   "codemirror_mode": {
    "name": "ipython",
    "version": 3
   },
   "file_extension": ".py",
   "mimetype": "text/x-python",
   "name": "python",
   "nbconvert_exporter": "python",
   "pygments_lexer": "ipython3",
   "version": "3.5.1"
  }
 },
 "nbformat": 4,
 "nbformat_minor": 2
}
